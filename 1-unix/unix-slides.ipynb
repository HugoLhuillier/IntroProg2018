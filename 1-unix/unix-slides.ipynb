{
 "cells": [
  {
   "cell_type": "markdown",
   "metadata": {
    "slideshow": {
     "slide_type": "slide"
    }
   },
   "source": [
    "# Introduction to Programming\n",
    "# #2: the Unix Shell\n",
    "\n",
    "_Hugo Lhuillier_ -- _Master in Economics, Sciences Po_"
   ]
  },
  {
   "cell_type": "markdown",
   "metadata": {
    "slideshow": {
     "slide_type": "slide"
    }
   },
   "source": [
    "# What and why?\n",
    "\n",
    "* The Unix Shell ($\\approx$ the terminal $\\approx$ the command line): one of the first way to interact with your computer \n",
    "* Why should you use it? It makes your instruction\n",
    "    - reusable \n",
    "    - faster (at some point)\n",
    "    - and sometimes you cannot avoid it (e.g. with remote machines and supercomputers)"
   ]
  },
  {
   "cell_type": "markdown",
   "metadata": {
    "slideshow": {
     "slide_type": "fragment"
    }
   },
   "source": [
    "Also, it makes you look really cool in the train or at the library\n",
    "   \n",
    "<img src=\"https://www.cyberciti.biz/media/new/faq/2008/10/perl-realpath-demo.png\">"
   ]
  },
  {
   "cell_type": "markdown",
   "metadata": {
    "slideshow": {
     "slide_type": "subslide"
    }
   },
   "source": [
    "# What and why? Unix? Shell? Bash?\n",
    "\n",
    "* Unix: one of the first OS\n",
    "* The Shell: an interpreter\n",
    "```BASH\n",
    "$ cd ./Dropbox/Teaching/\n",
    "```\n",
    "* Specificity: run other programs rather than to doing the calculations itself\n",
    "* Bash (Bourne Again SHell): the most common Unix Shell\n",
    "    * Documentary on this: [revolution OS](https://www.youtube.com/watch?v=k84FMc1GF8M)"
   ]
  },
  {
   "cell_type": "markdown",
   "metadata": {
    "slideshow": {
     "slide_type": "subslide"
    }
   },
   "source": [
    "# What and why? Specificity \n",
    "\n",
    "* Use the Unix shell from a command-line interface (CLI), and not a GUI \n",
    "* The heart of the CLI: the REPL (read-evaluate-print loop) "
   ]
  },
  {
   "cell_type": "markdown",
   "metadata": {
    "slideshow": {
     "slide_type": "notes"
    }
   },
   "source": [
    "Why REPL: when the user types a command and then presses the Enter (or Return) key, the computer reads it, executes it, and prints its output."
   ]
  },
  {
   "cell_type": "code",
   "execution_count": 7,
   "metadata": {
    "slideshow": {
     "slide_type": "fragment"
    }
   },
   "outputs": [
    {
     "name": "stdout",
     "output_type": "stream",
     "text": [
      "hugolhuillier\n"
     ]
    }
   ],
   "source": [
    "; whoami"
   ]
  },
  {
   "cell_type": "markdown",
   "metadata": {
    "slideshow": {
     "slide_type": "notes"
    }
   },
   "source": [
    "More specifically, when we type `whoami` the shell:\n",
    "\n",
    "* finds a program called whoami,\n",
    "* runs that program,\n",
    "* displays that program’s output, then\n",
    "* displays a new prompt to tell us that it’s ready for more commands."
   ]
  },
  {
   "cell_type": "code",
   "execution_count": 6,
   "metadata": {
    "slideshow": {
     "slide_type": "fragment"
    }
   },
   "outputs": [
    {
     "name": "stdout",
     "output_type": "stream",
     "text": [
      "/Users/hugolhuillier/Dropbox/Teaching/intro-prog/2017-2018/2-unix\n"
     ]
    }
   ],
   "source": [
    "; pwd"
   ]
  },
  {
   "cell_type": "markdown",
   "metadata": {
    "slideshow": {
     "slide_type": "fragment"
    }
   },
   "source": [
    "* **Careful**: the Shell is just an interpreter"
   ]
  },
  {
   "cell_type": "code",
   "execution_count": 8,
   "metadata": {
    "slideshow": {
     "slide_type": "fragment"
    }
   },
   "outputs": [
    {
     "name": "stderr",
     "output_type": "stream",
     "text": [
      "/bin/bash: 1: command not found\n"
     ]
    }
   ],
   "source": [
    "; 1 + 1"
   ]
  },
  {
   "cell_type": "markdown",
   "metadata": {
    "slideshow": {
     "slide_type": "slide"
    }
   },
   "source": [
    "# Linux & Mac vs. Windows \n",
    "\n",
    "* Mac and Linux OS include by default a Unix Shell (Bash)\n",
    "* Windows OS does not. Instead, will use an emulator: Git for Windows\n",
    "    - Windows 10 users can also install Ubuntu on their machine. [See here for instructions](https://www.laptopmag.com/articles/use-bash-shell-windows-10)."
   ]
  },
  {
   "cell_type": "markdown",
   "metadata": {
    "slideshow": {
     "slide_type": "notes"
    }
   },
   "source": [
    "Apparently, has to do with difference in culture in Windows and Lynux. Most programmers on Windows write programs \"for the users\", and therefore need to work extensively on the GUI. Alternatively, most developers in UNIX focus on programs for themselves or other developes; hence CLI which is faster and more useful in this case."
   ]
  },
  {
   "cell_type": "markdown",
   "metadata": {
    "slideshow": {
     "slide_type": "slide"
    }
   },
   "source": [
    "# Disclaimer\n",
    "\n",
    "* Most of the material is drawn from the excellent course prepared by [software carpentry](https://software-carpentry.org/lessons/)\n",
    "* In particular, most exercices are drawn from it. You can look up the answers, but you won't learn anything"
   ]
  },
  {
   "cell_type": "markdown",
   "metadata": {
    "slideshow": {
     "slide_type": "slide"
    }
   },
   "source": [
    "# Context: Nelle the marine biologist\n",
    "\n",
    "* Nelle is a marine biologist who just collected 1520 samples on marine life stuff "
   ]
  },
  {
   "cell_type": "markdown",
   "metadata": {
    "slideshow": {
     "slide_type": "fragment"
    }
   },
   "source": [
    "<a href=\"https://ibb.co/d0M4P6\"><img src=\"https://preview.ibb.co/mVcdj6/nelle.png\" alt=\"nelle\" border=\"0\"></a>"
   ]
  },
  {
   "cell_type": "markdown",
   "metadata": {
    "slideshow": {
     "slide_type": "subslide"
    }
   },
   "source": [
    "# Context: Nelle the marine biologist\n",
    "\n",
    "\n",
    "* For each sample, she has to \n",
    "    1. run the sample through a machine that's going to compute the relative abundance of the different proteins contained in it. The machine will output a text file.\n",
    "    1. run the text file through a program called `goostats` that's going to compute some statistics\n",
    "    \n",
    "Very repetitive procedure $\\Rightarrow$ should use the command shell to automate all this."
   ]
  },
  {
   "cell_type": "markdown",
   "metadata": {
    "slideshow": {
     "slide_type": "slide"
    }
   },
   "source": [
    "# The file system\n",
    "\n",
    "* The file system: part of the OS responsible for managing files and directories"
   ]
  },
  {
   "cell_type": "code",
   "execution_count": 26,
   "metadata": {
    "slideshow": {
     "slide_type": "skip"
    }
   },
   "outputs": [
    {
     "name": "stdout",
     "output_type": "stream",
     "text": [
      "/Users/hugolhuillier/Dropbox/Teaching/intro-prog/2017-2018/2-unix\n"
     ]
    }
   ],
   "source": [
    "; cd ./Dropbox/Teaching/intro-prog/2017-2018/2-unix"
   ]
  },
  {
   "cell_type": "code",
   "execution_count": 27,
   "metadata": {
    "slideshow": {
     "slide_type": "fragment"
    }
   },
   "outputs": [
    {
     "name": "stdout",
     "output_type": "stream",
     "text": [
      "/Users/hugolhuillier/Dropbox/Teaching/intro-prog/2017-2018/2-unix\n"
     ]
    }
   ],
   "source": [
    "; pwd"
   ]
  },
  {
   "cell_type": "markdown",
   "metadata": {
    "slideshow": {
     "slide_type": "notes"
    }
   },
   "source": [
    "1. At the top is the root directory that holds everything else. We refer to it using a slash character / on its own\n",
    "1. Inside that directory are several other directories, including Users (where users’ personal directories are located\n",
    "1. Our current working directory (nelle) is stored inside /Users - because /Users is the first part of its name - and /Users is stored inside the root directory, its name begins with /"
   ]
  },
  {
   "cell_type": "code",
   "execution_count": 28,
   "metadata": {
    "slideshow": {
     "slide_type": "fragment"
    }
   },
   "outputs": [
    {
     "name": "stdout",
     "output_type": "stream",
     "text": [
      "imgs\n",
      "notes.pages\n",
      "slides.ipynb\n",
      "slides.slides.html\n"
     ]
    }
   ],
   "source": [
    "; ls"
   ]
  },
  {
   "cell_type": "code",
   "execution_count": 29,
   "metadata": {
    "scrolled": false,
    "slideshow": {
     "slide_type": "fragment"
    }
   },
   "outputs": [
    {
     "name": "stdout",
     "output_type": "stream",
     "text": [
      "imgs/\n",
      "notes.pages\n",
      "slides.ipynb\n",
      "slides.slides.html\n"
     ]
    }
   ],
   "source": [
    "; ls -F"
   ]
  },
  {
   "cell_type": "code",
   "execution_count": 41,
   "metadata": {},
   "outputs": [
    {
     "name": "stdout",
     "output_type": "stream",
     "text": [
      "slides.slides.html\n",
      "slides.ipynb\n",
      "imgs/\n",
      "notes.pages\n"
     ]
    }
   ],
   "source": [
    "; ls -t -F"
   ]
  },
  {
   "cell_type": "code",
   "execution_count": 33,
   "metadata": {
    "slideshow": {
     "slide_type": "fragment"
    }
   },
   "outputs": [
    {
     "name": "stdout",
     "output_type": "stream",
     "text": [
      "nelle.png\n"
     ]
    }
   ],
   "source": [
    "; ls -F imgs"
   ]
  },
  {
   "cell_type": "markdown",
   "metadata": {
    "slideshow": {
     "slide_type": "subslide"
    }
   },
   "source": [
    "# The file system \n",
    "\n",
    "* For Linux and Mac users: can also access the documentation via  `man ls`\n",
    "    * Navigate with the arrow\n",
    "    * Can search with `/` followed by the character or word of interest \n",
    "    * Quit with `q`."
   ]
  },
  {
   "cell_type": "markdown",
   "metadata": {
    "slideshow": {
     "slide_type": "subslide"
    }
   },
   "source": [
    "# The file system\n",
    "\n",
    "* You can navigate through the repositories via `cd` \n",
    "* `cd` alone will set the Shell to the home directory "
   ]
  },
  {
   "cell_type": "code",
   "execution_count": 34,
   "metadata": {
    "slideshow": {
     "slide_type": "fragment"
    }
   },
   "outputs": [
    {
     "name": "stdout",
     "output_type": "stream",
     "text": [
      "/Users/hugolhuillier/Dropbox/Teaching/intro-prog/2017-2018/2-unix\n"
     ]
    }
   ],
   "source": [
    "; pwd"
   ]
  },
  {
   "cell_type": "code",
   "execution_count": 35,
   "metadata": {
    "slideshow": {
     "slide_type": "fragment"
    }
   },
   "outputs": [
    {
     "name": "stdout",
     "output_type": "stream",
     "text": [
      "/Users/hugolhuillier\n"
     ]
    }
   ],
   "source": [
    "; cd"
   ]
  },
  {
   "cell_type": "code",
   "execution_count": 36,
   "metadata": {
    "slideshow": {
     "slide_type": "fragment"
    }
   },
   "outputs": [
    {
     "name": "stdout",
     "output_type": "stream",
     "text": [
      "/Users/hugolhuillier/Dropbox/Teaching/intro-prog/2017-2018\n"
     ]
    }
   ],
   "source": [
    "; cd ./Dropbox/Teaching/intro-prog/2017-2018"
   ]
  },
  {
   "cell_type": "code",
   "execution_count": 37,
   "metadata": {
    "slideshow": {
     "slide_type": "fragment"
    }
   },
   "outputs": [
    {
     "name": "stdout",
     "output_type": "stream",
     "text": [
      "/Users/hugolhuillier/Dropbox/Teaching/intro-prog/2017-2018/2-unix/imgs\n"
     ]
    }
   ],
   "source": [
    "; cd ./2-unix/imgs"
   ]
  },
  {
   "cell_type": "code",
   "execution_count": 38,
   "metadata": {
    "slideshow": {
     "slide_type": "fragment"
    }
   },
   "outputs": [
    {
     "name": "stdout",
     "output_type": "stream",
     "text": [
      "/Users/hugolhuillier/Dropbox/Teaching/intro-prog/2017-2018/2-unix\n"
     ]
    }
   ],
   "source": [
    "; cd ./.."
   ]
  },
  {
   "cell_type": "code",
   "execution_count": 40,
   "metadata": {
    "slideshow": {
     "slide_type": "fragment"
    }
   },
   "outputs": [
    {
     "name": "stdout",
     "output_type": "stream",
     "text": [
      "imgs/\n",
      "notes.pages\n",
      "slides.ipynb\n",
      "slides.slides.html\n"
     ]
    }
   ],
   "source": [
    "; ls -F"
   ]
  },
  {
   "cell_type": "markdown",
   "metadata": {
    "slideshow": {
     "slide_type": "subslide"
    }
   },
   "source": [
    "# The file system\n",
    "\n",
    "* There exists plenty of shortcuts. Ex: starting from `/Users/amanda/data/`, Amanda can use all the following to navigate to her home directory, which is `/Users/amanda`:\n",
    "    - `cd ~`\n",
    "    - `cd ..` \n",
    "    - `cd`"
   ]
  },
  {
   "cell_type": "markdown",
   "metadata": {
    "slideshow": {
     "slide_type": "fragment"
    }
   },
   "source": [
    "* **Exercice**: navigate to the `data-shell` directories, and explore what's inside the `north-pacific-gyre/2012-07-03` directory"
   ]
  },
  {
   "cell_type": "code",
   "execution_count": 43,
   "metadata": {
    "slideshow": {
     "slide_type": "fragment"
    }
   },
   "outputs": [
    {
     "name": "stdout",
     "output_type": "stream",
     "text": [
      "/Users/hugolhuillier/Dropbox/Teaching/intro-prog/2017-2018/2-unix/data-shell\n"
     ]
    }
   ],
   "source": [
    "; cd ./data-shell"
   ]
  },
  {
   "cell_type": "code",
   "execution_count": 44,
   "metadata": {
    "slideshow": {
     "slide_type": "fragment"
    }
   },
   "outputs": [
    {
     "name": "stdout",
     "output_type": "stream",
     "text": [
      "creatures/\n",
      "data/\n",
      "molecules/\n",
      "north-pacific-gyre/\n",
      "notes.txt\n",
      "pizza.cfg\n",
      "solar.pdf\n",
      "writing/\n"
     ]
    }
   ],
   "source": [
    "; ls -F"
   ]
  },
  {
   "cell_type": "code",
   "execution_count": 6,
   "metadata": {
    "slideshow": {
     "slide_type": "fragment"
    }
   },
   "outputs": [
    {
     "name": "stdout",
     "output_type": "stream",
     "text": [
      "NENE01729A.txt\n",
      "NENE01729B.txt\n",
      "NENE01736A.txt\n",
      "NENE01751A.txt\n",
      "NENE01751B.txt\n",
      "NENE01812A.txt\n",
      "NENE01843A.txt\n",
      "NENE01843B.txt\n",
      "NENE01971Z.txt\n",
      "NENE01978A.txt\n",
      "NENE01978B.txt\n",
      "NENE02018B.txt\n",
      "NENE02040A.txt\n",
      "NENE02040B.txt\n",
      "NENE02040Z.txt\n",
      "NENE02043A.txt\n",
      "NENE02043B.txt\n",
      "goodiff*\n",
      "goostats*\n"
     ]
    }
   ],
   "source": [
    "; ls -F ./north-pacific-gyre/2012-07-03/"
   ]
  },
  {
   "cell_type": "markdown",
   "metadata": {
    "slideshow": {
     "slide_type": "slide"
    }
   },
   "source": [
    "# Working with files and directories \n",
    "\n",
    "* How to create a directory? "
   ]
  },
  {
   "cell_type": "code",
   "execution_count": 10,
   "metadata": {
    "slideshow": {
     "slide_type": "skip"
    }
   },
   "outputs": [
    {
     "name": "stdout",
     "output_type": "stream",
     "text": [
      "/Users/hugolhuillier/Dropbox/Teaching/intro-prog/2017-2018/2-unix/data-shell\n"
     ]
    }
   ],
   "source": [
    "; cd ./data-shell"
   ]
  },
  {
   "cell_type": "code",
   "execution_count": 11,
   "metadata": {
    "collapsed": true,
    "slideshow": {
     "slide_type": "fragment"
    }
   },
   "outputs": [],
   "source": [
    "; mkdir thesis"
   ]
  },
  {
   "cell_type": "markdown",
   "metadata": {
    "slideshow": {
     "slide_type": "fragment"
    }
   },
   "source": [
    "* Try to not use spaces in your files and directories names, EVER\n",
    "* How to create a file? Most generic command is `touch`"
   ]
  },
  {
   "cell_type": "code",
   "execution_count": 15,
   "metadata": {
    "collapsed": true,
    "slideshow": {
     "slide_type": "fragment"
    }
   },
   "outputs": [],
   "source": [
    "; touch a-blank-file.txt"
   ]
  },
  {
   "cell_type": "markdown",
   "metadata": {
    "slideshow": {
     "slide_type": "fragment"
    }
   },
   "source": [
    "* This will create a blank file. Work with any extension (`.txt`, `.csv`, `.jl` etc.)"
   ]
  },
  {
   "cell_type": "markdown",
   "metadata": {
    "slideshow": {
     "slide_type": "subslide"
    }
   },
   "source": [
    "# Working with files and directories \n",
    "\n",
    "* To create a text file and write directly in it, use a text editor\n",
    "* **Text editor**: which one to use? default one on Bash is `nano`. Others are:\n",
    "    - _Atom_ (open source, made by Github)\n",
    "    - Sublime Text\n",
    "    - Notepad ++"
   ]
  },
  {
   "cell_type": "markdown",
   "metadata": {
    "slideshow": {
     "slide_type": "fragment"
    }
   },
   "source": [
    "* For now, use `nano`\n",
    "```bash\n",
    "$ nano draft.txt\n",
    "```\n",
    "    - Write in it: \n",
    "    > It's not \"publish or perish\" any more, it's \"share and thrive\".\n",
    "    - Save via `Ctrl-O`\n",
    "    - Exit via `Ctrl-X`"
   ]
  },
  {
   "cell_type": "markdown",
   "metadata": {
    "slideshow": {
     "slide_type": "subslide"
    }
   },
   "source": [
    "# Working with files and directories\n",
    "\n",
    "* You can remove files with the command `rm`\n",
    "* **Careful**: the Unix shell doesn’t have a trash bin. Deleting is permanent"
   ]
  },
  {
   "cell_type": "code",
   "execution_count": 17,
   "metadata": {
    "collapsed": true,
    "slideshow": {
     "slide_type": "fragment"
    }
   },
   "outputs": [],
   "source": [
    "; rm ./thesis/draft.txt"
   ]
  },
  {
   "cell_type": "code",
   "execution_count": 18,
   "metadata": {
    "collapsed": true,
    "slideshow": {
     "slide_type": "fragment"
    }
   },
   "outputs": [],
   "source": [
    "; ls -F ./thesis"
   ]
  },
  {
   "cell_type": "markdown",
   "metadata": {
    "slideshow": {
     "slide_type": "fragment"
    }
   },
   "source": [
    "* Let's recreate the `draft.txt` file, move to the parent directory (`data-shell`), and try to remove directly the `thesis` directory"
   ]
  },
  {
   "cell_type": "code",
   "execution_count": 19,
   "metadata": {
    "collapsed": true,
    "slideshow": {
     "slide_type": "fragment"
    }
   },
   "outputs": [],
   "source": [
    "; touch ./thesis/draft.txt"
   ]
  },
  {
   "cell_type": "code",
   "execution_count": 22,
   "metadata": {
    "slideshow": {
     "slide_type": "fragment"
    }
   },
   "outputs": [
    {
     "name": "stderr",
     "output_type": "stream",
     "text": [
      "rm: thesis: is a directory\n"
     ]
    }
   ],
   "source": [
    "; rm thesis"
   ]
  },
  {
   "cell_type": "markdown",
   "metadata": {
    "slideshow": {
     "slide_type": "fragment"
    }
   },
   "source": [
    "* `rm` only works on files. To get rid of the `thesis` directory, we must first get rid of `draft.txt`"
   ]
  },
  {
   "cell_type": "code",
   "execution_count": 23,
   "metadata": {
    "collapsed": true,
    "slideshow": {
     "slide_type": "fragment"
    }
   },
   "outputs": [],
   "source": [
    "; rm -r thesis"
   ]
  },
  {
   "cell_type": "markdown",
   "metadata": {
    "slideshow": {
     "slide_type": "fragment"
    }
   },
   "source": [
    "* `rm -r` can be a very dangerous command, since you might remove loads of files. To be certain that you are not removing too many files, you can type `rm -r -i thesis`, and the Shell will ask you whether you want to remove this or that file"
   ]
  },
  {
   "cell_type": "markdown",
   "metadata": {
    "slideshow": {
     "slide_type": "subslide"
    }
   },
   "source": [
    "# Working with files and directories\n",
    "\n",
    "* How to rename or move a file? Use `mv name-file-to-be-rename new-name`\n",
    "* **Careful** `mv` will silently overwrite any existing file with the same name\n",
    "    - Add the flag `-i` for the Shell to warn you if `mv` is going to overwrite any file"
   ]
  },
  {
   "cell_type": "markdown",
   "metadata": {
    "slideshow": {
     "slide_type": "fragment"
    }
   },
   "source": [
    "* **Exercice**: in the directory `thesis`, create `draft.txt`. Then, rename it to `quote.txt`. Finally, move `quote.txt` from the `thesis` directory to its parent directory, `data-shell`"
   ]
  },
  {
   "cell_type": "code",
   "execution_count": 28,
   "metadata": {
    "collapsed": true,
    "slideshow": {
     "slide_type": "fragment"
    }
   },
   "outputs": [],
   "source": [
    "; mkdir thesis"
   ]
  },
  {
   "cell_type": "code",
   "execution_count": 29,
   "metadata": {
    "collapsed": true,
    "slideshow": {
     "slide_type": "-"
    }
   },
   "outputs": [],
   "source": [
    "; touch thesis/draft.txt"
   ]
  },
  {
   "cell_type": "code",
   "execution_count": 30,
   "metadata": {
    "collapsed": true,
    "slideshow": {
     "slide_type": "-"
    }
   },
   "outputs": [],
   "source": [
    "; mv thesis/draft.txt thesis/quote.txt"
   ]
  },
  {
   "cell_type": "code",
   "execution_count": 31,
   "metadata": {
    "collapsed": true,
    "slideshow": {
     "slide_type": "-"
    }
   },
   "outputs": [],
   "source": [
    "; mv thesis/quote.txt ."
   ]
  },
  {
   "cell_type": "markdown",
   "metadata": {
    "slideshow": {
     "slide_type": "fragment"
    }
   },
   "source": [
    "* `cp` works like `mv`, but makes a copy of the file instead of (re)moving it"
   ]
  },
  {
   "cell_type": "markdown",
   "metadata": {
    "slideshow": {
     "slide_type": "slide"
    }
   },
   "source": [
    "# Filters\n",
    "\n",
    "* So far, fancy, but not very useful... \n",
    "* Now: use the Shell to combine existing programs in new ways"
   ]
  },
  {
   "cell_type": "code",
   "execution_count": 35,
   "metadata": {
    "slideshow": {
     "slide_type": "fragment"
    }
   },
   "outputs": [
    {
     "name": "stdout",
     "output_type": "stream",
     "text": [
      "/Users/hugolhuillier/Dropbox/Teaching/intro-prog/2017-2018/2-unix/data-shell/molecules\n"
     ]
    }
   ],
   "source": [
    "; cd ./molecules"
   ]
  },
  {
   "cell_type": "code",
   "execution_count": 36,
   "metadata": {
    "scrolled": true,
    "slideshow": {
     "slide_type": "-"
    }
   },
   "outputs": [
    {
     "name": "stdout",
     "output_type": "stream",
     "text": [
      "cubane.pdb\n",
      "ethane.pdb\n",
      "methane.pdb\n",
      "octane.pdb\n",
      "pentane.pdb\n",
      "propane.pdb\n"
     ]
    }
   ],
   "source": [
    "; ls -F"
   ]
  },
  {
   "cell_type": "markdown",
   "metadata": {
    "slideshow": {
     "slide_type": "fragment"
    }
   },
   "source": [
    "* **Ex #1**: count the number of word for each file in the directory"
   ]
  },
  {
   "cell_type": "code",
   "execution_count": 38,
   "metadata": {
    "slideshow": {
     "slide_type": "-"
    }
   },
   "outputs": [
    {
     "name": "stdout",
     "output_type": "stream",
     "text": [
      "      20     156    1158 cubane.pdb\n",
      "      12      84     622 ethane.pdb\n",
      "       9      57     422 methane.pdb\n",
      "      30     246    1828 octane.pdb\n",
      "      21     165    1226 pentane.pdb\n",
      "      15     111     825 propane.pdb\n",
      "     107     819    6081 total\n"
     ]
    },
    {
     "name": "stderr",
     "output_type": "stream",
     "text": [
      "\u001b[1m\u001b[33mWARNING: \u001b[39m\u001b[22m\u001b[33mspecial characters \"#{}()[]<>|&*?~;\" should now be quoted in commands\u001b[39m\n",
      "Stacktrace:\n",
      " [1] \u001b[1mdepwarn\u001b[22m\u001b[22m\u001b[1m(\u001b[22m\u001b[22m::String, ::Symbol\u001b[1m)\u001b[22m\u001b[22m at \u001b[1m./deprecated.jl:70\u001b[22m\u001b[22m\n",
      " [2] \u001b[1mwarn_shell_special\u001b[22m\u001b[22m\u001b[1m(\u001b[22m\u001b[22m::String\u001b[1m)\u001b[22m\u001b[22m at \u001b[1m./shell.jl:8\u001b[22m\u001b[22m\n",
      " [3] \u001b[1m#shell_parse#236\u001b[22m\u001b[22m\u001b[1m(\u001b[22m\u001b[22m::String, ::Function, ::String, ::Bool\u001b[1m)\u001b[22m\u001b[22m at \u001b[1m./shell.jl:103\u001b[22m\u001b[22m\n",
      " [4] \u001b[1m(::Base.#kw##shell_parse)\u001b[22m\u001b[22m\u001b[1m(\u001b[22m\u001b[22m::Array{Any,1}, ::Base.#shell_parse, ::String, ::Bool\u001b[1m)\u001b[22m\u001b[22m at \u001b[1m./<missing>:0\u001b[22m\u001b[22m (repeats 2 times)\n",
      " [5] \u001b[1m@cmd\u001b[22m\u001b[22m\u001b[1m(\u001b[22m\u001b[22m::ANY\u001b[1m)\u001b[22m\u001b[22m at \u001b[1m./process.jl:796\u001b[22m\u001b[22m\n",
      " [6] \u001b[1minclude_string\u001b[22m\u001b[22m\u001b[1m(\u001b[22m\u001b[22m::String, ::String\u001b[1m)\u001b[22m\u001b[22m at \u001b[1m./loading.jl:522\u001b[22m\u001b[22m\n",
      " [7] \u001b[1minclude_string\u001b[22m\u001b[22m\u001b[1m(\u001b[22m\u001b[22m::Module, ::String, ::String\u001b[1m)\u001b[22m\u001b[22m at \u001b[1m/Users/hugolhuillier/.julia/v0.6/Compat/src/Compat.jl:174\u001b[22m\u001b[22m\n",
      " [8] \u001b[1mexecute_request\u001b[22m\u001b[22m\u001b[1m(\u001b[22m\u001b[22m::ZMQ.Socket, ::IJulia.Msg\u001b[1m)\u001b[22m\u001b[22m at \u001b[1m/Users/hugolhuillier/.julia/v0.6/IJulia/src/execute_request.jl:154\u001b[22m\u001b[22m\n",
      " [9] \u001b[1m(::Compat.#inner#16{Array{Any,1},IJulia.#execute_request,Tuple{ZMQ.Socket,IJulia.Msg}})\u001b[22m\u001b[22m\u001b[1m(\u001b[22m\u001b[22m\u001b[1m)\u001b[22m\u001b[22m at \u001b[1m/Users/hugolhuillier/.julia/v0.6/Compat/src/Compat.jl:496\u001b[22m\u001b[22m\n",
      " [10] \u001b[1meventloop\u001b[22m\u001b[22m\u001b[1m(\u001b[22m\u001b[22m::ZMQ.Socket\u001b[1m)\u001b[22m\u001b[22m at \u001b[1m/Users/hugolhuillier/.julia/v0.6/IJulia/src/eventloop.jl:8\u001b[22m\u001b[22m\n",
      " [11] \u001b[1m(::IJulia.##14#17)\u001b[22m\u001b[22m\u001b[1m(\u001b[22m\u001b[22m\u001b[1m)\u001b[22m\u001b[22m at \u001b[1m./task.jl:335\u001b[22m\u001b[22m\n",
      "while loading In[38], in expression starting on line 1\n"
     ]
    }
   ],
   "source": [
    "; wc *.pdb"
   ]
  },
  {
   "cell_type": "markdown",
   "metadata": {
    "slideshow": {
     "slide_type": "subslide"
    }
   },
   "source": [
    "# Filters\n",
    "\n",
    "* **Wildcard**: wildcards are a form of shorcut.\n",
    "    - `*`: matches zero or more characters; e.g. `*.pdb` will be a list containing `ethane.pdb`, `propane.pdb` etc. Similarly, `p*.pdb` will only contain `pentane.pdb` and `propane.pdb` \n",
    "    - `?`: matches one character\n",
    "    - Wildcards can be combined: e.g. `p*.p*`\n",
    "    - `[xy]` matches either `A` or `B`"
   ]
  },
  {
   "cell_type": "markdown",
   "metadata": {
    "slideshow": {
     "slide_type": "fragment"
    }
   },
   "source": [
    "* **Ex**: in `north-pacific-gyre/2012-07-03/`, list all the _text_ files ending with `A` or `B` (i.e. exclude those ending with `Z`)"
   ]
  },
  {
   "cell_type": "code",
   "execution_count": 6,
   "metadata": {
    "scrolled": true,
    "slideshow": {
     "slide_type": "fragment"
    }
   },
   "outputs": [
    {
     "name": "stdout",
     "output_type": "stream",
     "text": [
      "NENE01729A.txt\n",
      "NENE01729B.txt\n",
      "NENE01736A.txt\n",
      "NENE01751A.txt\n",
      "NENE01751B.txt\n",
      "NENE01812A.txt\n",
      "NENE01843A.txt\n",
      "NENE01843B.txt\n",
      "NENE01971Z.txt\n",
      "NENE01978A.txt\n",
      "NENE01978B.txt\n",
      "NENE02018B.txt\n",
      "NENE02040A.txt\n",
      "NENE02040B.txt\n",
      "NENE02040Z.txt\n",
      "NENE02043A.txt\n",
      "NENE02043B.txt\n",
      "goodiff*\n",
      "goostats*\n"
     ]
    }
   ],
   "source": [
    "; ls -F"
   ]
  },
  {
   "cell_type": "code",
   "execution_count": 7,
   "metadata": {
    "slideshow": {
     "slide_type": "-"
    }
   },
   "outputs": [
    {
     "name": "stdout",
     "output_type": "stream",
     "text": [
      "NENE01729A.txt\n",
      "NENE01729B.txt\n",
      "NENE01736A.txt\n",
      "NENE01751A.txt\n",
      "NENE01751B.txt\n",
      "NENE01812A.txt\n",
      "NENE01843A.txt\n",
      "NENE01843B.txt\n",
      "NENE01978A.txt\n",
      "NENE01978B.txt\n",
      "NENE02018B.txt\n",
      "NENE02040A.txt\n",
      "NENE02040B.txt\n",
      "NENE02043A.txt\n",
      "NENE02043B.txt\n"
     ]
    },
    {
     "name": "stderr",
     "output_type": "stream",
     "text": [
      "\u001b[1m\u001b[33mWARNING: \u001b[39m\u001b[22m\u001b[33mspecial characters \"#{}()[]<>|&*?~;\" should now be quoted in commands\u001b[39m\n",
      "Stacktrace:\n",
      " [1] \u001b[1mdepwarn\u001b[22m\u001b[22m\u001b[1m(\u001b[22m\u001b[22m::String, ::Symbol\u001b[1m)\u001b[22m\u001b[22m at \u001b[1m./deprecated.jl:70\u001b[22m\u001b[22m\n",
      " [2] \u001b[1mwarn_shell_special\u001b[22m\u001b[22m\u001b[1m(\u001b[22m\u001b[22m::String\u001b[1m)\u001b[22m\u001b[22m at \u001b[1m./shell.jl:8\u001b[22m\u001b[22m\n",
      " [3] \u001b[1m#shell_parse#236\u001b[22m\u001b[22m\u001b[1m(\u001b[22m\u001b[22m::String, ::Function, ::String, ::Bool\u001b[1m)\u001b[22m\u001b[22m at \u001b[1m./shell.jl:103\u001b[22m\u001b[22m\n",
      " [4] \u001b[1m(::Base.#kw##shell_parse)\u001b[22m\u001b[22m\u001b[1m(\u001b[22m\u001b[22m::Array{Any,1}, ::Base.#shell_parse, ::String, ::Bool\u001b[1m)\u001b[22m\u001b[22m at \u001b[1m./<missing>:0\u001b[22m\u001b[22m (repeats 2 times)\n",
      " [5] \u001b[1m@cmd\u001b[22m\u001b[22m\u001b[1m(\u001b[22m\u001b[22m::ANY\u001b[1m)\u001b[22m\u001b[22m at \u001b[1m./process.jl:796\u001b[22m\u001b[22m\n",
      " [6] \u001b[1minclude_string\u001b[22m\u001b[22m\u001b[1m(\u001b[22m\u001b[22m::String, ::String\u001b[1m)\u001b[22m\u001b[22m at \u001b[1m./loading.jl:522\u001b[22m\u001b[22m\n",
      " [7] \u001b[1minclude_string\u001b[22m\u001b[22m\u001b[1m(\u001b[22m\u001b[22m::Module, ::String, ::String\u001b[1m)\u001b[22m\u001b[22m at \u001b[1m/Users/hugolhuillier/.julia/v0.6/Compat/src/Compat.jl:174\u001b[22m\u001b[22m\n",
      " [8] \u001b[1mexecute_request\u001b[22m\u001b[22m\u001b[1m(\u001b[22m\u001b[22m::ZMQ.Socket, ::IJulia.Msg\u001b[1m)\u001b[22m\u001b[22m at \u001b[1m/Users/hugolhuillier/.julia/v0.6/IJulia/src/execute_request.jl:154\u001b[22m\u001b[22m\n",
      " [9] \u001b[1m(::Compat.#inner#16{Array{Any,1},IJulia.#execute_request,Tuple{ZMQ.Socket,IJulia.Msg}})\u001b[22m\u001b[22m\u001b[1m(\u001b[22m\u001b[22m\u001b[1m)\u001b[22m\u001b[22m at \u001b[1m/Users/hugolhuillier/.julia/v0.6/Compat/src/Compat.jl:496\u001b[22m\u001b[22m\n",
      " [10] \u001b[1meventloop\u001b[22m\u001b[22m\u001b[1m(\u001b[22m\u001b[22m::ZMQ.Socket\u001b[1m)\u001b[22m\u001b[22m at \u001b[1m/Users/hugolhuillier/.julia/v0.6/IJulia/src/eventloop.jl:8\u001b[22m\u001b[22m\n",
      " [11] \u001b[1m(::IJulia.##14#17)\u001b[22m\u001b[22m\u001b[1m(\u001b[22m\u001b[22m\u001b[1m)\u001b[22m\u001b[22m at \u001b[1m./task.jl:335\u001b[22m\u001b[22m\n",
      "while loading In[7], in expression starting on line 1\n"
     ]
    }
   ],
   "source": [
    "; ls *[AB].txt"
   ]
  },
  {
   "cell_type": "markdown",
   "metadata": {
    "slideshow": {
     "slide_type": "subslide"
    }
   },
   "source": [
    "# Filters\n",
    "\n",
    "* Let's find which of these files is the shortest "
   ]
  },
  {
   "cell_type": "code",
   "execution_count": 39,
   "metadata": {
    "slideshow": {
     "slide_type": "fragment"
    }
   },
   "outputs": [
    {
     "name": "stderr",
     "output_type": "stream",
     "text": [
      "\u001b[1m\u001b[33mWARNING: \u001b[39m\u001b[22m\u001b[33mspecial characters \"#{}()[]<>|&*?~;\" should now be quoted in commands\u001b[39m\n",
      "Stacktrace:\n",
      " [1] \u001b[1mdepwarn\u001b[22m\u001b[22m\u001b[1m(\u001b[22m\u001b[22m::String, ::Symbol\u001b[1m)\u001b[22m\u001b[22m at \u001b[1m./deprecated.jl:70\u001b[22m\u001b[22m\n",
      " [2] \u001b[1mwarn_shell_special\u001b[22m\u001b[22m\u001b[1m(\u001b[22m\u001b[22m::String\u001b[1m)\u001b[22m\u001b[22m at \u001b[1m./shell.jl:8\u001b[22m\u001b[22m\n",
      " [3] \u001b[1m#shell_parse#236\u001b[22m\u001b[22m\u001b[1m(\u001b[22m\u001b[22m::String, ::Function, ::String, ::Bool\u001b[1m)\u001b[22m\u001b[22m at \u001b[1m./shell.jl:103\u001b[22m\u001b[22m\n",
      " [4] \u001b[1m(::Base.#kw##shell_parse)\u001b[22m\u001b[22m\u001b[1m(\u001b[22m\u001b[22m::Array{Any,1}, ::Base.#shell_parse, ::String, ::Bool\u001b[1m)\u001b[22m\u001b[22m at \u001b[1m./<missing>:0\u001b[22m\u001b[22m (repeats 2 times)\n",
      " [5] \u001b[1m@cmd\u001b[22m\u001b[22m\u001b[1m(\u001b[22m\u001b[22m::ANY\u001b[1m)\u001b[22m\u001b[22m at \u001b[1m./process.jl:796\u001b[22m\u001b[22m\n",
      " [6] \u001b[1minclude_string\u001b[22m\u001b[22m\u001b[1m(\u001b[22m\u001b[22m::String, ::String\u001b[1m)\u001b[22m\u001b[22m at \u001b[1m./loading.jl:522\u001b[22m\u001b[22m\n",
      " [7] \u001b[1minclude_string\u001b[22m\u001b[22m\u001b[1m(\u001b[22m\u001b[22m::Module, ::String, ::String\u001b[1m)\u001b[22m\u001b[22m at \u001b[1m/Users/hugolhuillier/.julia/v0.6/Compat/src/Compat.jl:174\u001b[22m\u001b[22m\n",
      " [8] \u001b[1mexecute_request\u001b[22m\u001b[22m\u001b[1m(\u001b[22m\u001b[22m::ZMQ.Socket, ::IJulia.Msg\u001b[1m)\u001b[22m\u001b[22m at \u001b[1m/Users/hugolhuillier/.julia/v0.6/IJulia/src/execute_request.jl:154\u001b[22m\u001b[22m\n",
      " [9] \u001b[1m(::Compat.#inner#16{Array{Any,1},IJulia.#execute_request,Tuple{ZMQ.Socket,IJulia.Msg}})\u001b[22m\u001b[22m\u001b[1m(\u001b[22m\u001b[22m\u001b[1m)\u001b[22m\u001b[22m at \u001b[1m/Users/hugolhuillier/.julia/v0.6/Compat/src/Compat.jl:496\u001b[22m\u001b[22m\n",
      " [10] \u001b[1meventloop\u001b[22m\u001b[22m\u001b[1m(\u001b[22m\u001b[22m::ZMQ.Socket\u001b[1m)\u001b[22m\u001b[22m at \u001b[1m/Users/hugolhuillier/.julia/v0.6/IJulia/src/eventloop.jl:8\u001b[22m\u001b[22m\n",
      " [11] \u001b[1m(::IJulia.##14#17)\u001b[22m\u001b[22m\u001b[1m(\u001b[22m\u001b[22m\u001b[1m)\u001b[22m\u001b[22m at \u001b[1m./task.jl:335\u001b[22m\u001b[22m\n",
      "while loading In[39], in expression starting on line 1\n"
     ]
    }
   ],
   "source": [
    "; wc -l *.pdb > lengths.txt"
   ]
  },
  {
   "cell_type": "markdown",
   "metadata": {
    "slideshow": {
     "slide_type": "notes"
    }
   },
   "source": [
    "The -l flag tells the shell to report only the number of lines. the > commands tells the shell to redirect the command's outptu to a file instead of printing it to the screen."
   ]
  },
  {
   "cell_type": "code",
   "execution_count": 40,
   "metadata": {
    "slideshow": {
     "slide_type": "fragment"
    }
   },
   "outputs": [
    {
     "name": "stdout",
     "output_type": "stream",
     "text": [
      "      20 cubane.pdb\n",
      "      12 ethane.pdb\n",
      "       9 methane.pdb\n",
      "      30 octane.pdb\n",
      "      21 pentane.pdb\n",
      "      15 propane.pdb\n",
      "     107 total\n"
     ]
    }
   ],
   "source": [
    "; cat lengths.txt"
   ]
  },
  {
   "cell_type": "markdown",
   "metadata": {
    "slideshow": {
     "slide_type": "fragment"
    }
   },
   "source": [
    "* `>` overwrites a file, while `>>` append to it"
   ]
  },
  {
   "cell_type": "markdown",
   "metadata": {
    "slideshow": {
     "slide_type": "fragment"
    }
   },
   "source": [
    "* It only remains to sort `lenghts.txt` - and to store it in a new file"
   ]
  },
  {
   "cell_type": "code",
   "execution_count": 42,
   "metadata": {
    "slideshow": {
     "slide_type": "fragment"
    }
   },
   "outputs": [
    {
     "name": "stderr",
     "output_type": "stream",
     "text": [
      "\u001b[1m\u001b[33mWARNING: \u001b[39m\u001b[22m\u001b[33mspecial characters \"#{}()[]<>|&*?~;\" should now be quoted in commands\u001b[39m\n",
      "Stacktrace:\n",
      " [1] \u001b[1mdepwarn\u001b[22m\u001b[22m\u001b[1m(\u001b[22m\u001b[22m::String, ::Symbol\u001b[1m)\u001b[22m\u001b[22m at \u001b[1m./deprecated.jl:70\u001b[22m\u001b[22m\n",
      " [2] \u001b[1mwarn_shell_special\u001b[22m\u001b[22m\u001b[1m(\u001b[22m\u001b[22m::String\u001b[1m)\u001b[22m\u001b[22m at \u001b[1m./shell.jl:8\u001b[22m\u001b[22m\n",
      " [3] \u001b[1m#shell_parse#236\u001b[22m\u001b[22m\u001b[1m(\u001b[22m\u001b[22m::String, ::Function, ::String, ::Bool\u001b[1m)\u001b[22m\u001b[22m at \u001b[1m./shell.jl:103\u001b[22m\u001b[22m\n",
      " [4] \u001b[1m(::Base.#kw##shell_parse)\u001b[22m\u001b[22m\u001b[1m(\u001b[22m\u001b[22m::Array{Any,1}, ::Base.#shell_parse, ::String, ::Bool\u001b[1m)\u001b[22m\u001b[22m at \u001b[1m./<missing>:0\u001b[22m\u001b[22m (repeats 2 times)\n",
      " [5] \u001b[1m@cmd\u001b[22m\u001b[22m\u001b[1m(\u001b[22m\u001b[22m::ANY\u001b[1m)\u001b[22m\u001b[22m at \u001b[1m./process.jl:796\u001b[22m\u001b[22m\n",
      " [6] \u001b[1minclude_string\u001b[22m\u001b[22m\u001b[1m(\u001b[22m\u001b[22m::String, ::String\u001b[1m)\u001b[22m\u001b[22m at \u001b[1m./loading.jl:522\u001b[22m\u001b[22m\n",
      " [7] \u001b[1minclude_string\u001b[22m\u001b[22m\u001b[1m(\u001b[22m\u001b[22m::Module, ::String, ::String\u001b[1m)\u001b[22m\u001b[22m at \u001b[1m/Users/hugolhuillier/.julia/v0.6/Compat/src/Compat.jl:174\u001b[22m\u001b[22m\n",
      " [8] \u001b[1mexecute_request\u001b[22m\u001b[22m\u001b[1m(\u001b[22m\u001b[22m::ZMQ.Socket, ::IJulia.Msg\u001b[1m)\u001b[22m\u001b[22m at \u001b[1m/Users/hugolhuillier/.julia/v0.6/IJulia/src/execute_request.jl:154\u001b[22m\u001b[22m\n",
      " [9] \u001b[1m(::Compat.#inner#16{Array{Any,1},IJulia.#execute_request,Tuple{ZMQ.Socket,IJulia.Msg}})\u001b[22m\u001b[22m\u001b[1m(\u001b[22m\u001b[22m\u001b[1m)\u001b[22m\u001b[22m at \u001b[1m/Users/hugolhuillier/.julia/v0.6/Compat/src/Compat.jl:496\u001b[22m\u001b[22m\n",
      " [10] \u001b[1meventloop\u001b[22m\u001b[22m\u001b[1m(\u001b[22m\u001b[22m::ZMQ.Socket\u001b[1m)\u001b[22m\u001b[22m at \u001b[1m/Users/hugolhuillier/.julia/v0.6/IJulia/src/eventloop.jl:8\u001b[22m\u001b[22m\n",
      " [11] \u001b[1m(::IJulia.##14#17)\u001b[22m\u001b[22m\u001b[1m(\u001b[22m\u001b[22m\u001b[1m)\u001b[22m\u001b[22m at \u001b[1m./task.jl:335\u001b[22m\u001b[22m\n",
      "while loading In[42], in expression starting on line 1\n"
     ]
    }
   ],
   "source": [
    "; sort -n lengths.txt > sorted-lengths.txt"
   ]
  },
  {
   "cell_type": "code",
   "execution_count": 43,
   "metadata": {},
   "outputs": [
    {
     "name": "stdout",
     "output_type": "stream",
     "text": [
      "       9 methane.pdb\n",
      "      12 ethane.pdb\n"
     ]
    }
   ],
   "source": [
    "; head -n 2 sorted-lengths.txt"
   ]
  },
  {
   "cell_type": "markdown",
   "metadata": {
    "slideshow": {
     "slide_type": "notes"
    }
   },
   "source": [
    "You need to use `-n` because by default the sorting is alphabetical. Here it becomes numerical. Similarly, you need `-n` before the 2 to indicate that you want the first two rows."
   ]
  },
  {
   "cell_type": "markdown",
   "metadata": {
    "slideshow": {
     "slide_type": "subslide"
    }
   },
   "source": [
    "# Pipes\n",
    "\n",
    "* This is a pipe: `|`"
   ]
  },
  {
   "cell_type": "code",
   "execution_count": 3,
   "metadata": {
    "slideshow": {
     "slide_type": "fragment"
    }
   },
   "outputs": [
    {
     "name": "stdout",
     "output_type": "stream",
     "text": [
      "       9 methane.pdb\n"
     ]
    },
    {
     "name": "stderr",
     "output_type": "stream",
     "text": [
      "\u001b[1m\u001b[33mWARNING: \u001b[39m\u001b[22m\u001b[33mspecial characters \"#{}()[]<>|&*?~;\" should now be quoted in commands\u001b[39m\n",
      "Stacktrace:\n",
      " [1] \u001b[1mdepwarn\u001b[22m\u001b[22m\u001b[1m(\u001b[22m\u001b[22m::String, ::Symbol\u001b[1m)\u001b[22m\u001b[22m at \u001b[1m./deprecated.jl:70\u001b[22m\u001b[22m\n",
      " [2] \u001b[1mwarn_shell_special\u001b[22m\u001b[22m\u001b[1m(\u001b[22m\u001b[22m::String\u001b[1m)\u001b[22m\u001b[22m at \u001b[1m./shell.jl:8\u001b[22m\u001b[22m\n",
      " [3] \u001b[1m#shell_parse#236\u001b[22m\u001b[22m\u001b[1m(\u001b[22m\u001b[22m::String, ::Function, ::String, ::Bool\u001b[1m)\u001b[22m\u001b[22m at \u001b[1m./shell.jl:103\u001b[22m\u001b[22m\n",
      " [4] \u001b[1m(::Base.#kw##shell_parse)\u001b[22m\u001b[22m\u001b[1m(\u001b[22m\u001b[22m::Array{Any,1}, ::Base.#shell_parse, ::String, ::Bool\u001b[1m)\u001b[22m\u001b[22m at \u001b[1m./<missing>:0\u001b[22m\u001b[22m (repeats 2 times)\n",
      " [5] \u001b[1m@cmd\u001b[22m\u001b[22m\u001b[1m(\u001b[22m\u001b[22m::ANY\u001b[1m)\u001b[22m\u001b[22m at \u001b[1m./process.jl:796\u001b[22m\u001b[22m\n",
      " [6] \u001b[1minclude_string\u001b[22m\u001b[22m\u001b[1m(\u001b[22m\u001b[22m::String, ::String\u001b[1m)\u001b[22m\u001b[22m at \u001b[1m./loading.jl:522\u001b[22m\u001b[22m\n",
      " [7] \u001b[1minclude_string\u001b[22m\u001b[22m\u001b[1m(\u001b[22m\u001b[22m::Module, ::String, ::String\u001b[1m)\u001b[22m\u001b[22m at \u001b[1m/Users/hugolhuillier/.julia/v0.6/Compat/src/Compat.jl:174\u001b[22m\u001b[22m\n",
      " [8] \u001b[1mexecute_request\u001b[22m\u001b[22m\u001b[1m(\u001b[22m\u001b[22m::ZMQ.Socket, ::IJulia.Msg\u001b[1m)\u001b[22m\u001b[22m at \u001b[1m/Users/hugolhuillier/.julia/v0.6/IJulia/src/execute_request.jl:154\u001b[22m\u001b[22m\n",
      " [9] \u001b[1m(::Compat.#inner#16{Array{Any,1},IJulia.#execute_request,Tuple{ZMQ.Socket,IJulia.Msg}})\u001b[22m\u001b[22m\u001b[1m(\u001b[22m\u001b[22m\u001b[1m)\u001b[22m\u001b[22m at \u001b[1m/Users/hugolhuillier/.julia/v0.6/Compat/src/Compat.jl:496\u001b[22m\u001b[22m\n",
      " [10] \u001b[1meventloop\u001b[22m\u001b[22m\u001b[1m(\u001b[22m\u001b[22m::ZMQ.Socket\u001b[1m)\u001b[22m\u001b[22m at \u001b[1m/Users/hugolhuillier/.julia/v0.6/IJulia/src/eventloop.jl:8\u001b[22m\u001b[22m\n",
      " [11] \u001b[1m(::IJulia.##14#17)\u001b[22m\u001b[22m\u001b[1m(\u001b[22m\u001b[22m\u001b[1m)\u001b[22m\u001b[22m at \u001b[1m./task.jl:335\u001b[22m\u001b[22m\n",
      "while loading In[3], in expression starting on line 1\n"
     ]
    }
   ],
   "source": [
    "; sort -n lengths.txt | head -n 1"
   ]
  },
  {
   "cell_type": "markdown",
   "metadata": {
    "slideshow": {
     "slide_type": "fragment"
    }
   },
   "source": [
    "* Tells the shell that we want to use the output of the command on the left as the input to the command on the right"
   ]
  },
  {
   "cell_type": "code",
   "execution_count": 45,
   "metadata": {
    "slideshow": {
     "slide_type": "fragment"
    }
   },
   "outputs": [
    {
     "name": "stderr",
     "output_type": "stream",
     "text": [
      "\u001b[1m\u001b[33mWARNING: \u001b[39m\u001b[22m\u001b[33mspecial characters \"#{}()[]<>|&*?~;\" should now be quoted in commands\u001b[39m\n",
      "Stacktrace:\n",
      " [1] \u001b[1mdepwarn\u001b[22m\u001b[22m\u001b[1m(\u001b[22m\u001b[22m::String, ::Symbol\u001b[1m)\u001b[22m\u001b[22m at \u001b[1m./deprecated.jl:70\u001b[22m\u001b[22m\n",
      " [2] \u001b[1mwarn_shell_special\u001b[22m\u001b[22m\u001b[1m(\u001b[22m\u001b[22m::String\u001b[1m)\u001b[22m\u001b[22m at \u001b[1m./shell.jl:8\u001b[22m\u001b[22m\n",
      " [3] \u001b[1m#shell_parse#236\u001b[22m\u001b[22m\u001b[1m(\u001b[22m\u001b[22m::String, ::Function, ::String, ::Bool\u001b[1m)\u001b[22m\u001b[22m at \u001b[1m./shell.jl:103\u001b[22m\u001b[22m\n",
      " [4] \u001b[1m(::Base.#kw##shell_parse)\u001b[22m\u001b[22m\u001b[1m(\u001b[22m\u001b[22m::Array{Any,1}, ::Base.#shell_parse, ::String, ::Bool\u001b[1m)\u001b[22m\u001b[22m at \u001b[1m./<missing>:0\u001b[22m\u001b[22m (repeats 2 times)\n",
      " [5] \u001b[1m@cmd\u001b[22m\u001b[22m\u001b[1m(\u001b[22m\u001b[22m::ANY\u001b[1m)\u001b[22m\u001b[22m at \u001b[1m./process.jl:796\u001b[22m\u001b[22m\n",
      " [6] \u001b[1minclude_string\u001b[22m\u001b[22m\u001b[1m(\u001b[22m\u001b[22m::String, ::String\u001b[1m)\u001b[22m\u001b[22m at \u001b[1m./loading.jl:522\u001b[22m\u001b[22m\n",
      " [7] \u001b[1minclude_string\u001b[22m\u001b[22m\u001b[1m(\u001b[22m\u001b[22m::Module, ::String, ::String\u001b[1m)\u001b[22m\u001b[22m at \u001b[1m/Users/hugolhuillier/.julia/v0.6/Compat/src/Compat.jl:174\u001b[22m\u001b[22m\n",
      " [8] \u001b[1mexecute_request\u001b[22m\u001b[22m\u001b[1m(\u001b[22m\u001b[22m::ZMQ.Socket, ::IJulia.Msg\u001b[1m)\u001b[22m\u001b[22m at \u001b[1m/Users/hugolhuillier/.julia/v0.6/IJulia/src/execute_request.jl:154\u001b[22m\u001b[22m\n",
      " [9] \u001b[1m(::Compat.#inner#16{Array{Any,1},IJulia.#execute_request,Tuple{ZMQ.Socket,IJulia.Msg}})\u001b[22m\u001b[22m\u001b[1m(\u001b[22m\u001b[22m\u001b[1m)\u001b[22m\u001b[22m at \u001b[1m/Users/hugolhuillier/.julia/v0.6/Compat/src/Compat.jl:496\u001b[22m\u001b[22m\n",
      " [10] \u001b[1meventloop\u001b[22m\u001b[22m\u001b[1m(\u001b[22m\u001b[22m::ZMQ.Socket\u001b[1m)\u001b[22m\u001b[22m at \u001b[1m/Users/hugolhuillier/.julia/v0.6/IJulia/src/eventloop.jl:8\u001b[22m\u001b[22m\n",
      " [11] \u001b[1m(::IJulia.##14#17)\u001b[22m\u001b[22m\u001b[1m(\u001b[22m\u001b[22m\u001b[1m)\u001b[22m\u001b[22m at \u001b[1m./task.jl:335\u001b[22m\u001b[22m\n",
      "while loading In[45], in expression starting on line 1\n"
     ]
    },
    {
     "name": "stdout",
     "output_type": "stream",
     "text": [
      "       9 methane.pdb\n"
     ]
    }
   ],
   "source": [
    "; wc -l *.pdb | sort -n | head -n 1"
   ]
  },
  {
   "cell_type": "markdown",
   "metadata": {
    "slideshow": {
     "slide_type": "fragment"
    }
   },
   "source": [
    "* The key: any program that reads lines of text from standard input and writes lines of text to standard output can be combined with every other program that behaves this way as well in Unix"
   ]
  },
  {
   "cell_type": "markdown",
   "metadata": {
    "collapsed": true,
    "slideshow": {
     "slide_type": "slide"
    }
   },
   "source": [
    "# Loops \n",
    "\n",
    "* Why should you use loops? "
   ]
  },
  {
   "cell_type": "markdown",
   "metadata": {
    "slideshow": {
     "slide_type": "fragment"
    }
   },
   "source": [
    "* Allow us to execute commands repetitively\n",
    "* Reduces the amount of typing \n",
    "* Less typying = less likely to do a typing mistakes"
   ]
  },
  {
   "cell_type": "markdown",
   "metadata": {
    "slideshow": {
     "slide_type": "subslide"
    }
   },
   "source": [
    "# Loops \n",
    "\n",
    "* **Ex #1**: would like to copy several files"
   ]
  },
  {
   "cell_type": "code",
   "execution_count": 11,
   "metadata": {
    "slideshow": {
     "slide_type": "fragment"
    }
   },
   "outputs": [
    {
     "name": "stdout",
     "output_type": "stream",
     "text": [
      "/Users/hugolhuillier/Dropbox/Teaching/intro-prog/2017-2018/2-unix/data-shell/creatures\n"
     ]
    }
   ],
   "source": [
    "; cd ./Dropbox/Teaching/intro-prog/2017-2018/2-unix/data-shell/creatures"
   ]
  },
  {
   "cell_type": "code",
   "execution_count": 12,
   "metadata": {
    "slideshow": {
     "slide_type": "fragment"
    }
   },
   "outputs": [
    {
     "name": "stdout",
     "output_type": "stream",
     "text": [
      "basilisk.dat\n",
      "original-basilisk.dat\n",
      "original-unicorn.dat\n",
      "unicorn.dat\n"
     ]
    }
   ],
   "source": [
    "; ls -F"
   ]
  },
  {
   "cell_type": "markdown",
   "metadata": {
    "slideshow": {
     "slide_type": "fragment"
    }
   },
   "source": [
    "* The following command _would not_ work! \n",
    "\n",
    "```bash \n",
    "$ cp *.dat original-*.dat\n",
    "```"
   ]
  },
  {
   "cell_type": "markdown",
   "metadata": {
    "slideshow": {
     "slide_type": "notes"
    }
   },
   "source": [
    "When `cp` receives more than two inputs, it expects the last input to be a directory where it can copy all the files it was passed. Since there is no directory named original-*.dat in the creatures directory we get an error."
   ]
  },
  {
   "cell_type": "markdown",
   "metadata": {
    "slideshow": {
     "slide_type": "fragment"
    }
   },
   "source": [
    "* Solution: use a loop \n",
    "* Example of a loop: \n",
    "\n",
    "```bash \n",
    "for filename in basilisk.dat unicorn.dat\n",
    "    do\n",
    "        head -n 3 $filename \n",
    "    done\n",
    "\n",
    "```\n",
    "\n",
    "* `$filename` and `${filename}` are equivalent"
   ]
  },
  {
   "cell_type": "markdown",
   "metadata": {
    "slideshow": {
     "slide_type": "notes"
    }
   },
   "source": [
    "When the shell sees the keyword `for`, it knows to repeat a command once for each item in a list (the list = the elements after `in`). For each iteration, an item in the list is assigned to the variable, and the commands inside the loop are executed. Inside the loop, we call for the variable’s value by putting `$` in front of it. The `$` tells the shell interpreter to treat the variable as a variable name rather than some text or an external command.\n",
    "\n",
    "**Astuce**: always write the beginning (`do`) and the ending of the loop (`done`) at the beginning "
   ]
  },
  {
   "cell_type": "markdown",
   "metadata": {
    "slideshow": {
     "slide_type": "subslide"
    }
   },
   "source": [
    "# Loops\n",
    "\n",
    "* **Exercice**: for each files in the `creatures` directory, print the name of the file (may want to check the `echo` command), and the last 20 lines of the file (have a look at the `tail` command)\n",
    "* **Exercice**: write another loop to show that your previous code indeed printed only 20 lines per file"
   ]
  },
  {
   "cell_type": "markdown",
   "metadata": {
    "slideshow": {
     "slide_type": "fragment"
    }
   },
   "source": [
    "* Solution #1\n",
    "\n",
    "```bash \n",
    "for filename in *.dat \n",
    "do \n",
    "    echo $filename \n",
    "    tail -n 20\n",
    "done\n",
    "```"
   ]
  },
  {
   "cell_type": "markdown",
   "metadata": {
    "slideshow": {
     "slide_type": "fragment"
    }
   },
   "source": [
    "* Solution #2 \n",
    "\n",
    "```bash \n",
    "for filename in *.dat \n",
    "do \n",
    "    echo $filename\n",
    "    tail -n 20 $filename | wc -l \n",
    "done\n",
    "```"
   ]
  },
  {
   "cell_type": "markdown",
   "metadata": {
    "slideshow": {
     "slide_type": "subslide"
    }
   },
   "source": [
    "# Loops \n",
    "\n",
    "* **Exercice**: going back to the initial problem, copy, in the same directory, the files in the `creatures` directory "
   ]
  },
  {
   "cell_type": "markdown",
   "metadata": {
    "slideshow": {
     "slide_type": "fragment"
    }
   },
   "source": [
    "* Solution\n",
    "\n",
    "```bash \n",
    "for filename in *.dat \n",
    "do \n",
    "    cp $filename original-$filename\n",
    "done\n",
    "```"
   ]
  },
  {
   "cell_type": "markdown",
   "metadata": {
    "slideshow": {
     "slide_type": "fragment"
    }
   },
   "source": [
    "* Introduction to debugging: hard to check that the loop is doing the correct thing since it does not print anything. To check: print the command with `echo`\n",
    "\n",
    "```bash \n",
    "for filename in *.dat \n",
    "do \n",
    "    echo cp $filename original-$filename\n",
    "    cp $filename original-$filename\n",
    "done\n",
    "```"
   ]
  },
  {
   "cell_type": "markdown",
   "metadata": {
    "slideshow": {
     "slide_type": "subslide"
    }
   },
   "source": [
    "# Loop: Nelle's original problem\n",
    "\n",
    "* Remember: Nelle wants to run a statistical program, `goostats`, on the sample contained in `north-pacific-gyre/2017-07-03`\n",
    "* Info: \n",
    "    - run only the program on the sample finishing by `A` or `B` \n",
    "    - `goostats` takes two inputs: \n",
    "        1. the file on which to run the program \n",
    "        1. the file that's going to store the results \n",
    "    - to run an external program, write `bash` in front of it"
   ]
  },
  {
   "cell_type": "markdown",
   "metadata": {
    "slideshow": {
     "slide_type": "fragment"
    }
   },
   "source": [
    "* Write a program that's going to run `goostats` on each sample, and store  each results in a different file, with name `stats-ORIGINAL_NAME_OF_THE_FILE`. _Debug as much as possible your code_."
   ]
  },
  {
   "cell_type": "markdown",
   "metadata": {
    "slideshow": {
     "slide_type": "fragment"
    }
   },
   "source": [
    "```bash \n",
    "for datafile in NENE*[AB].txt\n",
    "do \n",
    "    echo $datafile \n",
    "    bash goostats $datafile stats-$datafile\n",
    "done\n",
    "```"
   ]
  },
  {
   "cell_type": "markdown",
   "metadata": {
    "slideshow": {
     "slide_type": "slide"
    }
   },
   "source": [
    "# Useful commands\n",
    "\n",
    "* Use the keyboard's arrows to retrieve past commands \n",
    "* Stop a running program at any point in time using `Ctrl + c`\n",
    "* `Ctrl + a` and `Ctrl + e` brings the pointer to the beginning and the end of the line respectively\n",
    "* `history` lists the last few hundred commands, and `!123` runs the command associated with line `123`. The code below prints the last 5 commands\n",
    "\n",
    "```bash \n",
    "history | tail -n 5\n",
    "```"
   ]
  },
  {
   "cell_type": "markdown",
   "metadata": {
    "slideshow": {
     "slide_type": "slide"
    }
   },
   "source": [
    "# Shell Scripts\n",
    "\n",
    "* _\"You said the advantage of using the Shell is that the instructions are re-usable, but if we have to retype them everytime, that's massive BS\"_\n",
    "* A shell script: a small programs that contains a list of Shell commands"
   ]
  },
  {
   "cell_type": "markdown",
   "metadata": {
    "collapsed": true,
    "slideshow": {
     "slide_type": "fragment"
    }
   },
   "source": [
    "```bash \n",
    "cd\n",
    "cd ./Dropbox/Teaching/intro-prog/2017-2018/2-unix/data-shell/molecules\n",
    "nano middle.sh\n",
    "```\n",
    "\n",
    "* Write in the file \n",
    "\n",
    "```bash\n",
    "head -n 15 octane.pdb | tail -n 5\n",
    "```"
   ]
  },
  {
   "cell_type": "markdown",
   "metadata": {
    "slideshow": {
     "slide_type": "fragment"
    }
   },
   "source": [
    "* Execute the shell script with the `bash` command "
   ]
  },
  {
   "cell_type": "code",
   "execution_count": 4,
   "metadata": {
    "slideshow": {
     "slide_type": "fragment"
    }
   },
   "outputs": [
    {
     "name": "stdout",
     "output_type": "stream",
     "text": [
      "ATOM      9  H           1      -4.502   0.681   0.785  1.00  0.00\n",
      "ATOM     10  H           1      -5.254  -0.243  -0.537  1.00  0.00\n",
      "ATOM     11  H           1      -4.357   1.252  -0.895  1.00  0.00\n",
      "ATOM     12  H           1      -3.009  -0.741  -1.467  1.00  0.00\n",
      "ATOM     13  H           1      -3.172  -1.337   0.206  1.00  0.00\n"
     ]
    }
   ],
   "source": [
    "; bash middle.sh"
   ]
  },
  {
   "cell_type": "markdown",
   "metadata": {
    "slideshow": {
     "slide_type": "notes"
    }
   },
   "source": [
    "This is a variation on the pipe we constructed earlier: it selects lines 11-15 of the file octane.pdb. Remember, we are not running it as a command just yet: we are putting the commands in a file."
   ]
  },
  {
   "cell_type": "markdown",
   "metadata": {
    "slideshow": {
     "slide_type": "subslide"
    }
   },
   "source": [
    "# Shell scripts\n",
    "\n",
    "* Remember the BLRs? Want to write code as re-usable as possible\n",
    "* Replace the content of `middle.sh` by \n",
    "\n",
    "```bash\n",
    "head -n 15 \"$1\" | tail -n 5\n",
    "```"
   ]
  },
  {
   "cell_type": "markdown",
   "metadata": {
    "slideshow": {
     "slide_type": "notes"
    }
   },
   "source": [
    "In other languages, we would call that a function, or a method. `\"$1\"` means \"the first argument after the program on the command line\". We surround `$1` with double quote in case the filename contains spaces."
   ]
  },
  {
   "cell_type": "code",
   "execution_count": 5,
   "metadata": {
    "slideshow": {
     "slide_type": "fragment"
    }
   },
   "outputs": [
    {
     "name": "stdout",
     "output_type": "stream",
     "text": [
      "ATOM      9  H           1      -4.502   0.681   0.785  1.00  0.00\n",
      "ATOM     10  H           1      -5.254  -0.243  -0.537  1.00  0.00\n",
      "ATOM     11  H           1      -4.357   1.252  -0.895  1.00  0.00\n",
      "ATOM     12  H           1      -3.009  -0.741  -1.467  1.00  0.00\n",
      "ATOM     13  H           1      -3.172  -1.337   0.206  1.00  0.00\n"
     ]
    }
   ],
   "source": [
    "; bash middle.sh octane.pdb"
   ]
  },
  {
   "cell_type": "markdown",
   "metadata": {
    "slideshow": {
     "slide_type": "fragment"
    }
   },
   "source": [
    "* As in maths, can use as many arguments as we want in a function. E.g., can make the number of head lines and tail lines we want\n",
    "\n",
    "```bash \n",
    "head -n \"$2\" \"$1\" | tail -n \"$3\"\n",
    "```"
   ]
  },
  {
   "cell_type": "code",
   "execution_count": 6,
   "metadata": {
    "slideshow": {
     "slide_type": "fragment"
    }
   },
   "outputs": [
    {
     "name": "stdout",
     "output_type": "stream",
     "text": [
      "ATOM      9  H           1      -4.502   0.681   0.785  1.00  0.00\n",
      "ATOM     10  H           1      -5.254  -0.243  -0.537  1.00  0.00\n",
      "ATOM     11  H           1      -4.357   1.252  -0.895  1.00  0.00\n",
      "ATOM     12  H           1      -3.009  -0.741  -1.467  1.00  0.00\n",
      "ATOM     13  H           1      -3.172  -1.337   0.206  1.00  0.00\n"
     ]
    }
   ],
   "source": [
    "; bash middle.sh octane.pdb 15 5"
   ]
  },
  {
   "cell_type": "markdown",
   "metadata": {
    "slideshow": {
     "slide_type": "subslide"
    }
   },
   "source": [
    "# Shell scripts\n",
    "\n",
    "* Once again, remember the BLRs: always write documentation / comments\n",
    "* Comments start with `#` in Shell\n",
    "\n",
    "```bash \n",
    "# select lines from the middle of a file \n",
    "# usage: bash middle.sh filename end_line num_lines\n",
    "head -n \"$2\" \"$1\" | tail -n \"$3\"\n",
    "```"
   ]
  },
  {
   "cell_type": "markdown",
   "metadata": {
    "slideshow": {
     "slide_type": "subslide"
    }
   },
   "source": [
    "# Shell scripts \n",
    "\n",
    "* What if we want a script that works on different files, but we do not know a priori how many? \n",
    "* Ex: would like a script that counts the lines of different files"
   ]
  },
  {
   "cell_type": "code",
   "execution_count": 7,
   "metadata": {
    "slideshow": {
     "slide_type": "fragment"
    }
   },
   "outputs": [
    {
     "name": "stdout",
     "output_type": "stream",
     "text": [
      "      20 cubane.pdb\n",
      "      12 ethane.pdb\n",
      "       9 methane.pdb\n",
      "      30 octane.pdb\n",
      "      21 pentane.pdb\n",
      "      15 propane.pdb\n",
      "     163 ../creatures/basilisk.dat\n",
      "     163 ../creatures/original-basilisk.dat\n",
      "     163 ../creatures/original-unicorn.dat\n",
      "     163 ../creatures/unicorn.dat\n",
      "     759 total\n"
     ]
    },
    {
     "name": "stderr",
     "output_type": "stream",
     "text": [
      "\u001b[1m\u001b[33mWARNING: \u001b[39m\u001b[22m\u001b[33mspecial characters \"#{}()[]<>|&*?~;\" should now be quoted in commands\u001b[39m\n",
      "Stacktrace:\n",
      " [1] \u001b[1mdepwarn\u001b[22m\u001b[22m\u001b[1m(\u001b[22m\u001b[22m::String, ::Symbol\u001b[1m)\u001b[22m\u001b[22m at \u001b[1m./deprecated.jl:70\u001b[22m\u001b[22m\n",
      " [2] \u001b[1mwarn_shell_special\u001b[22m\u001b[22m\u001b[1m(\u001b[22m\u001b[22m::String\u001b[1m)\u001b[22m\u001b[22m at \u001b[1m./shell.jl:8\u001b[22m\u001b[22m\n",
      " [3] \u001b[1m#shell_parse#236\u001b[22m\u001b[22m\u001b[1m(\u001b[22m\u001b[22m::String, ::Function, ::String, ::Bool\u001b[1m)\u001b[22m\u001b[22m at \u001b[1m./shell.jl:103\u001b[22m\u001b[22m\n",
      " [4] \u001b[1m(::Base.#kw##shell_parse)\u001b[22m\u001b[22m\u001b[1m(\u001b[22m\u001b[22m::Array{Any,1}, ::Base.#shell_parse, ::String, ::Bool\u001b[1m)\u001b[22m\u001b[22m at \u001b[1m./<missing>:0\u001b[22m\u001b[22m (repeats 2 times)\n",
      " [5] \u001b[1m@cmd\u001b[22m\u001b[22m\u001b[1m(\u001b[22m\u001b[22m::ANY\u001b[1m)\u001b[22m\u001b[22m at \u001b[1m./process.jl:796\u001b[22m\u001b[22m\n",
      " [6] \u001b[1minclude_string\u001b[22m\u001b[22m\u001b[1m(\u001b[22m\u001b[22m::String, ::String\u001b[1m)\u001b[22m\u001b[22m at \u001b[1m./loading.jl:522\u001b[22m\u001b[22m\n",
      " [7] \u001b[1minclude_string\u001b[22m\u001b[22m\u001b[1m(\u001b[22m\u001b[22m::Module, ::String, ::String\u001b[1m)\u001b[22m\u001b[22m at \u001b[1m/Users/hugolhuillier/.julia/v0.6/Compat/src/Compat.jl:174\u001b[22m\u001b[22m\n",
      " [8] \u001b[1mexecute_request\u001b[22m\u001b[22m\u001b[1m(\u001b[22m\u001b[22m::ZMQ.Socket, ::IJulia.Msg\u001b[1m)\u001b[22m\u001b[22m at \u001b[1m/Users/hugolhuillier/.julia/v0.6/IJulia/src/execute_request.jl:154\u001b[22m\u001b[22m\n",
      " [9] \u001b[1m(::Compat.#inner#16{Array{Any,1},IJulia.#execute_request,Tuple{ZMQ.Socket,IJulia.Msg}})\u001b[22m\u001b[22m\u001b[1m(\u001b[22m\u001b[22m\u001b[1m)\u001b[22m\u001b[22m at \u001b[1m/Users/hugolhuillier/.julia/v0.6/Compat/src/Compat.jl:496\u001b[22m\u001b[22m\n",
      " [10] \u001b[1meventloop\u001b[22m\u001b[22m\u001b[1m(\u001b[22m\u001b[22m::ZMQ.Socket\u001b[1m)\u001b[22m\u001b[22m at \u001b[1m/Users/hugolhuillier/.julia/v0.6/IJulia/src/eventloop.jl:8\u001b[22m\u001b[22m\n",
      " [11] \u001b[1m(::IJulia.##14#17)\u001b[22m\u001b[22m\u001b[1m(\u001b[22m\u001b[22m\u001b[1m)\u001b[22m\u001b[22m at \u001b[1m./task.jl:335\u001b[22m\u001b[22m\n",
      "while loading In[7], in expression starting on line 1\n"
     ]
    }
   ],
   "source": [
    "; wc -l *.pdb ../creatures/*.dat"
   ]
  },
  {
   "cell_type": "markdown",
   "metadata": {
    "slideshow": {
     "slide_type": "fragment"
    }
   },
   "source": [
    "* Use the variable `$@` = all of the command-line arguments to the shell script\n",
    "\n",
    "```bash \n",
    "# sort filenames by their length\n",
    "# usage: bash sorted.sh one_or_more_filenames \n",
    "wc -l \"$@\" | sort -n\n",
    "```"
   ]
  },
  {
   "cell_type": "code",
   "execution_count": 8,
   "metadata": {},
   "outputs": [
    {
     "name": "stdout",
     "output_type": "stream",
     "text": [
      "       9 methane.pdb\n",
      "      12 ethane.pdb\n",
      "      15 propane.pdb\n",
      "      20 cubane.pdb\n",
      "      21 pentane.pdb\n",
      "      30 octane.pdb\n",
      "     163 ../creatures/basilisk.dat\n",
      "     163 ../creatures/original-basilisk.dat\n",
      "     163 ../creatures/original-unicorn.dat\n",
      "     163 ../creatures/unicorn.dat\n",
      "     759 total\n"
     ]
    },
    {
     "name": "stderr",
     "output_type": "stream",
     "text": [
      "\u001b[1m\u001b[33mWARNING: \u001b[39m\u001b[22m\u001b[33mspecial characters \"#{}()[]<>|&*?~;\" should now be quoted in commands\u001b[39m\n",
      "Stacktrace:\n",
      " [1] \u001b[1mdepwarn\u001b[22m\u001b[22m\u001b[1m(\u001b[22m\u001b[22m::String, ::Symbol\u001b[1m)\u001b[22m\u001b[22m at \u001b[1m./deprecated.jl:70\u001b[22m\u001b[22m\n",
      " [2] \u001b[1mwarn_shell_special\u001b[22m\u001b[22m\u001b[1m(\u001b[22m\u001b[22m::String\u001b[1m)\u001b[22m\u001b[22m at \u001b[1m./shell.jl:8\u001b[22m\u001b[22m\n",
      " [3] \u001b[1m#shell_parse#236\u001b[22m\u001b[22m\u001b[1m(\u001b[22m\u001b[22m::String, ::Function, ::String, ::Bool\u001b[1m)\u001b[22m\u001b[22m at \u001b[1m./shell.jl:103\u001b[22m\u001b[22m\n",
      " [4] \u001b[1m(::Base.#kw##shell_parse)\u001b[22m\u001b[22m\u001b[1m(\u001b[22m\u001b[22m::Array{Any,1}, ::Base.#shell_parse, ::String, ::Bool\u001b[1m)\u001b[22m\u001b[22m at \u001b[1m./<missing>:0\u001b[22m\u001b[22m (repeats 2 times)\n",
      " [5] \u001b[1m@cmd\u001b[22m\u001b[22m\u001b[1m(\u001b[22m\u001b[22m::ANY\u001b[1m)\u001b[22m\u001b[22m at \u001b[1m./process.jl:796\u001b[22m\u001b[22m\n",
      " [6] \u001b[1minclude_string\u001b[22m\u001b[22m\u001b[1m(\u001b[22m\u001b[22m::String, ::String\u001b[1m)\u001b[22m\u001b[22m at \u001b[1m./loading.jl:522\u001b[22m\u001b[22m\n",
      " [7] \u001b[1minclude_string\u001b[22m\u001b[22m\u001b[1m(\u001b[22m\u001b[22m::Module, ::String, ::String\u001b[1m)\u001b[22m\u001b[22m at \u001b[1m/Users/hugolhuillier/.julia/v0.6/Compat/src/Compat.jl:174\u001b[22m\u001b[22m\n",
      " [8] \u001b[1mexecute_request\u001b[22m\u001b[22m\u001b[1m(\u001b[22m\u001b[22m::ZMQ.Socket, ::IJulia.Msg\u001b[1m)\u001b[22m\u001b[22m at \u001b[1m/Users/hugolhuillier/.julia/v0.6/IJulia/src/execute_request.jl:154\u001b[22m\u001b[22m\n",
      " [9] \u001b[1m(::Compat.#inner#16{Array{Any,1},IJulia.#execute_request,Tuple{ZMQ.Socket,IJulia.Msg}})\u001b[22m\u001b[22m\u001b[1m(\u001b[22m\u001b[22m\u001b[1m)\u001b[22m\u001b[22m at \u001b[1m/Users/hugolhuillier/.julia/v0.6/Compat/src/Compat.jl:496\u001b[22m\u001b[22m\n",
      " [10] \u001b[1meventloop\u001b[22m\u001b[22m\u001b[1m(\u001b[22m\u001b[22m::ZMQ.Socket\u001b[1m)\u001b[22m\u001b[22m at \u001b[1m/Users/hugolhuillier/.julia/v0.6/IJulia/src/eventloop.jl:8\u001b[22m\u001b[22m\n",
      " [11] \u001b[1m(::IJulia.##14#17)\u001b[22m\u001b[22m\u001b[1m(\u001b[22m\u001b[22m\u001b[1m)\u001b[22m\u001b[22m at \u001b[1m./task.jl:335\u001b[22m\u001b[22m\n",
      "while loading In[8], in expression starting on line 1\n"
     ]
    }
   ],
   "source": [
    "; bash sorted.sh *.pdb ../creatures/*.dat"
   ]
  },
  {
   "cell_type": "markdown",
   "metadata": {
    "slideshow": {
     "slide_type": "slide"
    }
   },
   "source": [
    "# Finding things\n",
    "\n",
    "* `grep` = \"global/regular expression/print\", a finder in Shell "
   ]
  },
  {
   "cell_type": "code",
   "execution_count": 19,
   "metadata": {
    "slideshow": {
     "slide_type": "fragment"
    }
   },
   "outputs": [
    {
     "name": "stdout",
     "output_type": "stream",
     "text": [
      "/Users/hugolhuillier/Dropbox/Teaching/intro-prog/2017-2018/2-unix/data-shell/writing\n"
     ]
    }
   ],
   "source": [
    "; cd data-shell/writing"
   ]
  },
  {
   "cell_type": "code",
   "execution_count": 20,
   "metadata": {
    "slideshow": {
     "slide_type": "fragment"
    }
   },
   "outputs": [
    {
     "name": "stdout",
     "output_type": "stream",
     "text": [
      "The Tao that is seen\n",
      "Is not the true Tao, until\n",
      "You bring fresh toner.\n",
      "\n",
      "With searching comes loss\n",
      "and the presence of absence:\n",
      "\"My Thesis\" not found.\n",
      "\n",
      "Yesterday it worked\n",
      "Today it is not working\n",
      "Software is like that.\n"
     ]
    }
   ],
   "source": [
    "; cat haiku.txt"
   ]
  },
  {
   "cell_type": "code",
   "execution_count": 22,
   "metadata": {
    "slideshow": {
     "slide_type": "fragment"
    }
   },
   "outputs": [
    {
     "name": "stdout",
     "output_type": "stream",
     "text": [
      "The Tao that is seen\n",
      "\"My Thesis\" not found.\n"
     ]
    }
   ],
   "source": [
    "; grep The haiku.txt"
   ]
  },
  {
   "cell_type": "code",
   "execution_count": 23,
   "metadata": {
    "slideshow": {
     "slide_type": "fragment"
    }
   },
   "outputs": [
    {
     "name": "stdout",
     "output_type": "stream",
     "text": [
      "The Tao that is seen\n"
     ]
    }
   ],
   "source": [
    "; grep -w The haiku.txt"
   ]
  },
  {
   "cell_type": "markdown",
   "metadata": {
    "slideshow": {
     "slide_type": "notes"
    }
   },
   "source": [
    "Previously, two lines included the letters “The”, but one instance of those letters is contained within a larger word, “Thesis”. To restrict matches to lines containing the word “The” on its own, we can give grep with the -w flag. This will limit matches to word boundaries."
   ]
  },
  {
   "cell_type": "code",
   "execution_count": 24,
   "metadata": {
    "slideshow": {
     "slide_type": "fragment"
    }
   },
   "outputs": [
    {
     "name": "stdout",
     "output_type": "stream",
     "text": [
      "Today it is not working\n"
     ]
    }
   ],
   "source": [
    "; grep -w \"is not\" haiku.txt"
   ]
  },
  {
   "cell_type": "markdown",
   "metadata": {
    "slideshow": {
     "slide_type": "subslide"
    }
   },
   "source": [
    "# Finding things\n",
    "\n",
    "* Several flags that are useful \n",
    "    - `-w`: the expression is searched for as a word\n",
    "    - `-n`: each output line is numbered \n",
    "    - `-i`: perform case insensitive matching \n",
    "    - `-v`: reverse search: selected lines are those not matching any of the specified patterns."
   ]
  },
  {
   "cell_type": "code",
   "execution_count": 25,
   "metadata": {
    "slideshow": {
     "slide_type": "fragment"
    }
   },
   "outputs": [
    {
     "name": "stdout",
     "output_type": "stream",
     "text": [
      "1:The Tao that is seen\n",
      "2:Is not the true Tao, until\n",
      "6:and the presence of absence:\n"
     ]
    }
   ],
   "source": [
    "; grep -n -w -i \"the\" haiku.txt"
   ]
  },
  {
   "cell_type": "markdown",
   "metadata": {
    "slideshow": {
     "slide_type": "fragment"
    }
   },
   "source": [
    "* If interested in the many possibilities offered by `grep`, e.g. possibility to implement complex searches, have a look [here](http://v4.software-carpentry.org/regexp/index.html)"
   ]
  },
  {
   "cell_type": "code",
   "execution_count": 27,
   "metadata": {
    "slideshow": {
     "slide_type": "fragment"
    }
   },
   "outputs": [
    {
     "name": "stdout",
     "output_type": "stream",
     "text": [
      "You bring fresh toner.\n",
      "Today it is not working\n",
      "Software is like that.\n"
     ]
    }
   ],
   "source": [
    "; grep -E '^.o' haiku.txt"
   ]
  },
  {
   "cell_type": "markdown",
   "metadata": {
    "slideshow": {
     "slide_type": "notes"
    }
   },
   "source": [
    "find all the lines that have an ‘o’ in the second position"
   ]
  },
  {
   "cell_type": "markdown",
   "metadata": {
    "slideshow": {
     "slide_type": "subslide"
    }
   },
   "source": [
    "# Finding things\n",
    "\n",
    "* `grep` finds patterns in files; `find` finds pattern in files"
   ]
  },
  {
   "cell_type": "code",
   "execution_count": 29,
   "metadata": {
    "slideshow": {
     "slide_type": "fragment"
    }
   },
   "outputs": [
    {
     "name": "stdout",
     "output_type": "stream",
     "text": [
      "data/\n",
      "haiku.txt\n",
      "thesis/\n",
      "tools/\n"
     ]
    }
   ],
   "source": [
    "; ls -F"
   ]
  },
  {
   "cell_type": "code",
   "execution_count": 30,
   "metadata": {
    "slideshow": {
     "slide_type": "fragment"
    }
   },
   "outputs": [
    {
     "name": "stdout",
     "output_type": "stream",
     "text": [
      ".\n",
      "./tools\n",
      "./tools/old\n",
      "./tools/old/oldtool\n",
      "./tools/format\n",
      "./tools/stats\n",
      "./haiku.txt\n",
      "./thesis\n",
      "./thesis/empty-draft.md\n",
      "./data\n",
      "./data/two.txt\n",
      "./data/LittleWomen.txt\n",
      "./data/one.txt\n"
     ]
    }
   ],
   "source": [
    "; find ."
   ]
  },
  {
   "cell_type": "markdown",
   "metadata": {
    "slideshow": {
     "slide_type": "notes"
    }
   },
   "source": [
    "As always, the . on its own means the current working directory, which is where we want our search to start. find’s output is the names of every file and directory under the current working directory."
   ]
  },
  {
   "cell_type": "markdown",
   "metadata": {
    "slideshow": {
     "slide_type": "fragment"
    }
   },
   "source": [
    "* Several very useful options\n",
    "    - `-type d`: lists only the directories \n",
    "    - `-type f`: lists only the files \n",
    "    - `-name some_name`: list only the files mathcing `some_name`\n",
    "    \n",
    "```bash \n",
    "find . -name '*.txt'\n",
    "```"
   ]
  },
  {
   "cell_type": "markdown",
   "metadata": {
    "slideshow": {
     "slide_type": "notes"
    }
   },
   "source": [
    "Very important to put the quotes around; otherwise, would first run `find . name *` which would yield a different result"
   ]
  },
  {
   "cell_type": "markdown",
   "metadata": {
    "slideshow": {
     "slide_type": "subslide"
    }
   },
   "source": [
    "# Finding things\n",
    "\n",
    "* As before, can combine `find` and `grep` with other commands. E.g.: to count the number of lines in each `.txt` files contained in the `writing` directory\n",
    "\n",
    "```bash \n",
    "wc -l $(find . -name '*.txt') \n",
    "```\n",
    "\n",
    "* Careful: different from \n",
    "\n",
    "```bash \n",
    "find . -name '*.txt' | wc -l\n",
    "```"
   ]
  },
  {
   "cell_type": "markdown",
   "metadata": {
    "slideshow": {
     "slide_type": "fragment"
    }
   },
   "source": [
    "* The shell executes in the first place what's inside `$`. It then replaces the `$()` expression with that command’s output. Here\n",
    "\n",
    "```bash \n",
    "wc -l ./data/one.txt ./data/LittleWomen.txt ./data/two.txt ./haiku.txt\n",
    "```"
   ]
  }
 ],
 "metadata": {
  "celltoolbar": "Slideshow",
  "kernelspec": {
   "display_name": "Julia 0.6.2",
   "language": "julia",
   "name": "julia-0.6"
  },
  "language_info": {
   "file_extension": ".jl",
   "mimetype": "application/julia",
   "name": "julia",
   "version": "0.6.2"
  }
 },
 "nbformat": 4,
 "nbformat_minor": 2
}
