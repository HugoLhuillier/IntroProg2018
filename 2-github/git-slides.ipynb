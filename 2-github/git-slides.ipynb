{
 "cells": [
  {
   "cell_type": "markdown",
   "metadata": {
    "slideshow": {
     "slide_type": "slide"
    }
   },
   "source": [
    "# Introduction to Programming\n",
    "# Version control, Git and Github\n",
    "\n",
    "_Hugo Lhuillier_ -- _Master in Economics, Sciences Po_"
   ]
  },
  {
   "cell_type": "markdown",
   "metadata": {
    "slideshow": {
     "slide_type": "notes"
    }
   },
   "source": [
    "Give an example:\n",
    "\n",
    "1. imagine work on some model; then you discover a new technique to solve it, or change a deep thing in the model $\\Rightarrow$ rewrite the model entirely. here:\n",
    "    - either you really bald and do not create another file with the new technique\n",
    "    - or you create another file. if were to do that infinitely, run out of memory \n",
    "1. a month later, Florian jumps in the project, and we are both working simultaneously on the project. at some point, we are both working (remotely) on the same plot. now if we are working on Dropbox for instance, if we are not careful, one version will overwrite the other, and not necessarily the better one, just the last one to be saved. "
   ]
  },
  {
   "cell_type": "markdown",
   "metadata": {
    "slideshow": {
     "slide_type": "slide"
    }
   },
   "source": [
    "# Version control: what & why?\n",
    "\n",
    "* Version control: a very clever way to manage changes made to some documents\n",
    "    - nothing that is committed to version control is ever lost\n",
    "    - automatically notifies users when there’s a conflict between two different codes"
   ]
  },
  {
   "cell_type": "markdown",
   "metadata": {
    "slideshow": {
     "slide_type": "fragment"
    }
   },
   "source": [
    "* How does it work?\n",
    "    - starts with a base version of the document, and save only the changes made to that document\n",
    "    - the key: changes are separated from the document itself. Allows you to\n",
    "        - make independent sets of changes based on the same base document\n",
    "        - merge two sets of changes onto the same base document"
   ]
  },
  {
   "cell_type": "markdown",
   "metadata": {
    "slideshow": {
     "slide_type": "-"
    }
   },
   "source": [
    "<table><tr><td><img src=\"https://swcarpentry.github.io/git-novice/fig/versions.svg\"></td><td><img src=\"https://swcarpentry.github.io/git-novice/fig/merge.svg\"></td></tr></table>"
   ]
  },
  {
   "cell_type": "markdown",
   "metadata": {
    "slideshow": {
     "slide_type": "subslide"
    }
   },
   "source": [
    "# Version control: some vocab'\n",
    "\n",
    "- Commit (v.): to record the current state of a set of files (the current changes) in a repository\n",
    "- Repository (n.): a storage area where a version control system stores the full history of commits of a project and some metadata (e.g. who changed what, when...) \n",
    "- Conflict (n.): a change made by one user that is incompatible with changes made by other users\n",
    "- Merge (v.): to reconcile two sets of changes to a repository"
   ]
  },
  {
   "cell_type": "markdown",
   "metadata": {
    "slideshow": {
     "slide_type": "slide"
    }
   },
   "source": [
    "# Github and the open source culture\n",
    "\n",
    "* **Proprietary software**: \"software that legally remains the property of the organisation, group, or individual who created it. The organisation that owns the rights to the product usually does not release the source code, and may insist that only those who have purchased a special licence key can use it.\"\n",
    "* **Free software**: \"licensed at no cost, or for an optional fee. It is usually closed source.\"\n",
    "* **Open source software**: \"free and openly available software to everyone. People who create open source products publish the code and allow others to use and modify it.\"\n",
    "* If interested, see [this documentary](https://www.youtube.com/watch?v=vjMZssWMweA)"
   ]
  },
  {
   "cell_type": "markdown",
   "metadata": {
    "slideshow": {
     "slide_type": "subslide"
    }
   },
   "source": [
    "# The open source culture in science\n",
    "\n",
    "* What science used to be\n",
    "    - data are stored on local machines\n",
    "    - codes are never published \n",
    "    - the final paper is published in a journal, therefore owned by the latter\n",
    "* What \"open\" science looks like\n",
    "    - data is stored in an open access repository (e.g. [figshare](https://figshare.com/), [zenodo](https://zenodo.org/), [dryad](https://datadryad.org/))\n",
    "    - the code is accessible on Github\n",
    "    - the paper is initially published to [arXiv](https://arxiv.org/) \n",
    "* From an individual pov, choosing the open science paradigm is optimal only if everybody else's choosing it $\\Rightarrow$ **cooperarion** "
   ]
  },
  {
   "cell_type": "markdown",
   "metadata": {
    "slideshow": {
     "slide_type": "slide"
    }
   },
   "source": [
    "# Disclaimer\n",
    "\n",
    "* The first part of the course is drawn from the course prepared by [sofrware carpentry](https://swcarpentry.github.io/git-novice/)"
   ]
  },
  {
   "cell_type": "markdown",
   "metadata": {
    "slideshow": {
     "slide_type": "slide"
    }
   },
   "source": [
    "# Creating a repository \n",
    "\n",
    "- Create a directory \n",
    "- Tell `Git` that this directory is a repository \n",
    "- **Ex**: \n",
    "\n",
    "```bash \n",
    "cd; cd ./Dropbox/Teaching/IntroProg/2017-2018/3-github\n",
    "mkdir planets\n",
    "cd planets\n",
    "git init\n",
    "```"
   ]
  },
  {
   "cell_type": "code",
   "execution_count": 4,
   "metadata": {
    "slideshow": {
     "slide_type": "fragment"
    }
   },
   "outputs": [
    {
     "name": "stdout",
     "output_type": "stream",
     "text": [
      ".\n",
      "..\n",
      ".git\n"
     ]
    }
   ],
   "source": [
    "; ls -a"
   ]
  },
  {
   "cell_type": "code",
   "execution_count": 5,
   "metadata": {
    "slideshow": {
     "slide_type": "fragment"
    }
   },
   "outputs": [
    {
     "name": "stdout",
     "output_type": "stream",
     "text": [
      "On branch master\n",
      "\n",
      "Initial commit\n",
      "\n",
      "nothing to commit (create/copy files and use \"git add\" to track)\n"
     ]
    }
   ],
   "source": [
    "; git status "
   ]
  },
  {
   "cell_type": "markdown",
   "metadata": {
    "slideshow": {
     "slide_type": "subslide"
    }
   },
   "source": [
    "# Tracking changes \n",
    "\n",
    "* How to track changes made to a file?\n",
    "\n",
    "```bash\n",
    "nano mars.txt\n",
    "```\n",
    "> Cold and dry, but everything is my favorite color"
   ]
  },
  {
   "cell_type": "code",
   "execution_count": 6,
   "metadata": {
    "slideshow": {
     "slide_type": "fragment"
    }
   },
   "outputs": [
    {
     "name": "stdout",
     "output_type": "stream",
     "text": [
      "On branch master\n",
      "\n",
      "Initial commit\n",
      "\n",
      "Untracked files:\n",
      "  (use \"git add <file>...\" to include in what will be committed)\n",
      "\n",
      "\tmars.txt\n",
      "\n",
      "nothing added to commit but untracked files present (use \"git add\" to track)\n"
     ]
    }
   ],
   "source": [
    "; git status"
   ]
  },
  {
   "cell_type": "markdown",
   "metadata": {
    "collapsed": true,
    "slideshow": {
     "slide_type": "notes"
    }
   },
   "source": [
    "Git knows that it’s supposed to keep track of mars.txt, but it hasn’t recorded these changes as a commit yet"
   ]
  },
  {
   "cell_type": "markdown",
   "metadata": {
    "slideshow": {
     "slide_type": "fragment"
    }
   },
   "source": [
    "* To tell Git to record those changes in the repository, we need to\n",
    "    1. add these changes \n",
    "    1. commit them"
   ]
  },
  {
   "cell_type": "code",
   "execution_count": 10,
   "metadata": {
    "collapsed": true,
    "slideshow": {
     "slide_type": "-"
    }
   },
   "outputs": [],
   "source": [
    "; git add mars.txt"
   ]
  },
  {
   "cell_type": "code",
   "execution_count": 11,
   "metadata": {
    "slideshow": {
     "slide_type": "-"
    }
   },
   "outputs": [
    {
     "name": "stdout",
     "output_type": "stream",
     "text": [
      "[master (root-commit) 282cfa9] start notes on Mars as a base\n",
      " 1 file changed, 1 insertion(+)\n",
      " create mode 100644 mars.txt\n"
     ]
    }
   ],
   "source": [
    "; git commit -m \"start notes on Mars as a base\""
   ]
  },
  {
   "cell_type": "markdown",
   "metadata": {
    "slideshow": {
     "slide_type": "notes"
    }
   },
   "source": [
    "With this command, Git stored a copy permanently inside the special .git directory. 282cfa9 is the short identifier of the commit.\n",
    "\n",
    "Good commit messages start with a brief summary of changes made in the commit. If you want to go into more detail, add a blank line between the summary line and your additional notes."
   ]
  },
  {
   "cell_type": "markdown",
   "metadata": {
    "slideshow": {
     "slide_type": "fragment"
    }
   },
   "source": [
    "* To know what has been done recently, ask Git to show the project's history via `git log`"
   ]
  },
  {
   "cell_type": "code",
   "execution_count": 12,
   "metadata": {
    "slideshow": {
     "slide_type": "-"
    }
   },
   "outputs": [
    {
     "name": "stdout",
     "output_type": "stream",
     "text": [
      "commit 282cfa9d1c0e8eefab68ea573f4e6798a4e98f73\n",
      "Author: Hugo Lhuillier <hugo.lhu@gmail.com>\n",
      "Date:   Mon Jan 15 20:11:51 2018 +0100\n",
      "\n",
      "    start notes on Mars as a base\n"
     ]
    }
   ],
   "source": [
    "; git log"
   ]
  },
  {
   "cell_type": "markdown",
   "metadata": {
    "slideshow": {
     "slide_type": "notes"
    }
   },
   "source": [
    "git log lists all commits made to a repository in reverse chronological order. The listing for each commit includes the commit’s full identifier (which starts with the same characters as the short identifier printed by the git commit command earlier), the commit’s author, when it was created, and the log message Git was given when the commit was created."
   ]
  },
  {
   "cell_type": "markdown",
   "metadata": {
    "slideshow": {
     "slide_type": "subslide"
    }
   },
   "source": [
    "# Tracking changes\n",
    "\n",
    "* Let's add to `mars.txt`\n",
    "> The two moons may be a problem for Wolfman"
   ]
  },
  {
   "cell_type": "code",
   "execution_count": 13,
   "metadata": {
    "scrolled": true,
    "slideshow": {
     "slide_type": "fragment"
    }
   },
   "outputs": [
    {
     "name": "stdout",
     "output_type": "stream",
     "text": [
      "On branch master\n",
      "Changes not staged for commit:\n",
      "  (use \"git add <file>...\" to update what will be committed)\n",
      "  (use \"git checkout -- <file>...\" to discard changes in working directory)\n",
      "\n",
      "\tmodified:   mars.txt\n",
      "\n",
      "no changes added to commit (use \"git add\" and/or \"git commit -a\")\n"
     ]
    }
   ],
   "source": [
    "; git status"
   ]
  },
  {
   "cell_type": "markdown",
   "metadata": {
    "slideshow": {
     "slide_type": "notes"
    }
   },
   "source": [
    "“no changes added to commit”. We have changed this file, but we haven’t told Git we will want to save those changes"
   ]
  },
  {
   "cell_type": "code",
   "execution_count": 14,
   "metadata": {
    "slideshow": {
     "slide_type": "fragment"
    }
   },
   "outputs": [
    {
     "name": "stdout",
     "output_type": "stream",
     "text": [
      "diff --git a/mars.txt b/mars.txt\n",
      "index df0654a..315bf3a 100644\n",
      "--- a/mars.txt\n",
      "+++ b/mars.txt\n",
      "@@ -1 +1,2 @@\n",
      " Cold and dry, but everything is my favorite color\n",
      "+The two moons may be a problem for Wolfman\n"
     ]
    }
   ],
   "source": [
    "; git diff"
   ]
  },
  {
   "cell_type": "markdown",
   "metadata": {
    "slideshow": {
     "slide_type": "notes"
    }
   },
   "source": [
    "This is a series of commands for tools like editors and patch so that they can reconstruct one file given the other. If we break it down into pieces:\n",
    "\n",
    "1. The first line tells us that Git is producing output similar to the Unix diff command comparing the old and new versions of the file.\n",
    "1. The second line tells exactly which versions of the file Git is comparing; df0654a and 315bf3a are unique computer-generated labels for those versions.\n",
    "1. The third and fourth lines once again show the name of the file being changed.\n",
    "1. The remaining lines are the most interesting, they show us the actual differences and the lines on which they occur. In particular, the + marker in the first column shows where we added a line."
   ]
  },
  {
   "cell_type": "markdown",
   "metadata": {
    "slideshow": {
     "slide_type": "fragment"
    }
   },
   "source": [
    "* Let's add and commit:\n",
    "```bash\n",
    "git add mars.txt\n",
    "git commit -m \"add concerns about effects of Mars' moons on Wolfram\"\n",
    "```"
   ]
  },
  {
   "cell_type": "markdown",
   "metadata": {
    "slideshow": {
     "slide_type": "subslide"
    }
   },
   "source": [
    "# Tracking changes\n",
    "\n",
    "* You can add several changes before committing. In particular, not forced to commit all the changes made to the repository\n",
    "* Advantages: Git tracks out changes in stages rather than in one big batch, therefore easier to recover some piece of code"
   ]
  },
  {
   "cell_type": "markdown",
   "metadata": {
    "slideshow": {
     "slide_type": "fragment"
    }
   },
   "source": [
    "* **Ex**: \n",
    "    1. add \"But the Mummy will appreciate the lack of humidity\" to `mars.txt`\n",
    "    2. create a new file called eart.txt\n",
    "    3. commit only the changes made to `mars.txt`"
   ]
  },
  {
   "cell_type": "code",
   "execution_count": 3,
   "metadata": {
    "slideshow": {
     "slide_type": "fragment"
    }
   },
   "outputs": [
    {
     "name": "stdout",
     "output_type": "stream",
     "text": [
      "Cold and dry, but everything is my favorite color\n",
      "The two moons may be a problem for Wolfman\n",
      "But the Mummy will appreciate the lack of humidity\n"
     ]
    }
   ],
   "source": [
    "; cat mars.txt"
   ]
  },
  {
   "cell_type": "code",
   "execution_count": 5,
   "metadata": {
    "scrolled": true
   },
   "outputs": [
    {
     "name": "stdout",
     "output_type": "stream",
     "text": [
      "Is the Earth flat?\n"
     ]
    }
   ],
   "source": [
    "; cat earth.txt"
   ]
  },
  {
   "cell_type": "code",
   "execution_count": 3,
   "metadata": {
    "slideshow": {
     "slide_type": "fragment"
    }
   },
   "outputs": [
    {
     "name": "stdout",
     "output_type": "stream",
     "text": [
      "On branch master\n",
      "Changes not staged for commit:\n",
      "  (use \"git add <file>...\" to update what will be committed)\n",
      "  (use \"git checkout -- <file>...\" to discard changes in working directory)\n",
      "\n",
      "\tmodified:   mars.txt\n",
      "\n",
      "Untracked files:\n",
      "  (use \"git add <file>...\" to include in what will be committed)\n",
      "\n",
      "\tearth.txt\n",
      "\n",
      "no changes added to commit (use \"git add\" and/or \"git commit -a\")\n"
     ]
    }
   ],
   "source": [
    "; git status"
   ]
  },
  {
   "cell_type": "code",
   "execution_count": 4,
   "metadata": {
    "collapsed": true,
    "slideshow": {
     "slide_type": "fragment"
    }
   },
   "outputs": [],
   "source": [
    "; git add mars.txt"
   ]
  },
  {
   "cell_type": "code",
   "execution_count": 6,
   "metadata": {},
   "outputs": [
    {
     "name": "stdout",
     "output_type": "stream",
     "text": [
      "diff --git a/mars.txt b/mars.txt\n",
      "index 315bf3a..b36abfd 100644\n",
      "--- a/mars.txt\n",
      "+++ b/mars.txt\n",
      "@@ -1,2 +1,3 @@\n",
      " Cold and dry, but everything is my favorite color\n",
      " The two moons may be a problem for Wolfman\n",
      "+But the Mummy will appreciate the lack of humidity\n"
     ]
    }
   ],
   "source": [
    "; git diff --staged"
   ]
  },
  {
   "cell_type": "code",
   "execution_count": 7,
   "metadata": {
    "slideshow": {
     "slide_type": "fragment"
    }
   },
   "outputs": [
    {
     "name": "stdout",
     "output_type": "stream",
     "text": [
      "[master 089ad21] discuss concerns about mars' climate for mummy\n",
      " 1 file changed, 1 insertion(+)\n"
     ]
    }
   ],
   "source": [
    "; git commit -m \"discuss concerns about mars' climate for mummy\""
   ]
  },
  {
   "cell_type": "code",
   "execution_count": 10,
   "metadata": {
    "slideshow": {
     "slide_type": "fragment"
    }
   },
   "outputs": [
    {
     "name": "stdout",
     "output_type": "stream",
     "text": [
      "On branch master\n",
      "Untracked files:\n",
      "  (use \"git add <file>...\" to include in what will be committed)\n",
      "\n",
      "\tearth.txt\n",
      "\n",
      "nothing added to commit but untracked files present (use \"git add\" to track)\n"
     ]
    }
   ],
   "source": [
    "; git status"
   ]
  },
  {
   "cell_type": "markdown",
   "metadata": {
    "slideshow": {
     "slide_type": "subslide"
    }
   },
   "source": [
    "# Tracking changes\n",
    "\n",
    "<img src=\"https://swcarpentry.github.io/git-novice/fig/git-committing.svg\">"
   ]
  },
  {
   "cell_type": "markdown",
   "metadata": {
    "slideshow": {
     "slide_type": "subslide"
    }
   },
   "source": [
    "# Tracking changes \n",
    "\n",
    "* If the output of `git log` is too long, `git` uses a program to split it into pages\n",
    "    - move to the next page via the space bar \n",
    "    - to search for `x` in all pages, type `/x` and navigate through matches by pressing `n`\n",
    "    - exit by running `q`\n",
    "* You can limit the number of commits you want `git log` to output via `git log -N`, where `N` is the number of commits \n",
    "* You can also display the changes made by each commit (similar to `git show`) via `git log --patch <name-of-the-file>`"
   ]
  },
  {
   "cell_type": "code",
   "execution_count": 12,
   "metadata": {
    "scrolled": false
   },
   "outputs": [
    {
     "name": "stdout",
     "output_type": "stream",
     "text": [
      "commit 089ad21f070b5420227111a0845cf91159f7887f\n",
      "Author: Hugo Lhuillier <hugo.lhu@gmail.com>\n",
      "Date:   Tue Jan 16 10:01:11 2018 +0100\n",
      "\n",
      "    discuss concerns about mars' climate for mummy\n"
     ]
    }
   ],
   "source": [
    "; git log -1"
   ]
  },
  {
   "cell_type": "markdown",
   "metadata": {
    "slideshow": {
     "slide_type": "subslide"
    }
   },
   "source": [
    "# Tracking changes\n",
    "\n",
    "* **Important**: `Git` tracks only files, not directories per se\n",
    "* However, if you have a sub-directory and want to commit the changes made in all the files in this directory, you can run \n",
    "```bash \n",
    "git add <name-of-that-sub-directory>\n",
    "```"
   ]
  },
  {
   "cell_type": "markdown",
   "metadata": {
    "slideshow": {
     "slide_type": "slide"
    }
   },
   "source": [
    "# Exploring history \n",
    "\n",
    "* Every commit has its own identifiers\n",
    "* The most recent commit is called `HEAD`"
   ]
  },
  {
   "cell_type": "code",
   "execution_count": 16,
   "metadata": {},
   "outputs": [
    {
     "name": "stdout",
     "output_type": "stream",
     "text": [
      "commit 089ad21f070b5420227111a0845cf91159f7887f\n",
      "Author: Hugo Lhuillier <hugo.lhu@gmail.com>\n",
      "Date:   Tue Jan 16 10:01:11 2018 +0100\n",
      "\n",
      "    discuss concerns about mars' climate for mummy\n",
      "\n",
      "diff --git a/mars.txt b/mars.txt\n",
      "index 315bf3a..b36abfd 100644\n",
      "--- a/mars.txt\n",
      "+++ b/mars.txt\n",
      "@@ -1,2 +1,3 @@\n",
      " Cold and dry, but everything is my favorite color\n",
      " The two moons may be a problem for Wolfman\n",
      "+But the Mummy will appreciate the lack of humidity\n"
     ]
    }
   ],
   "source": [
    "; git show HEAD mars.txt"
   ]
  },
  {
   "cell_type": "code",
   "execution_count": 17,
   "metadata": {},
   "outputs": [
    {
     "name": "stdout",
     "output_type": "stream",
     "text": [
      "commit 8ed65cf6864dd9eba43f9944e9844246ad87816c\n",
      "Author: Hugo Lhuillier <hugo.lhu@gmail.com>\n",
      "Date:   Tue Jan 16 09:59:21 2018 +0100\n",
      "\n",
      "    add concerns about effects of Mars' moons on Wolfram\n",
      "\n",
      "diff --git a/mars.txt b/mars.txt\n",
      "index df0654a..315bf3a 100644\n",
      "--- a/mars.txt\n",
      "+++ b/mars.txt\n",
      "@@ -1 +1,2 @@\n",
      " Cold and dry, but everything is my favorite color\n",
      "+The two moons may be a problem for Wolfman\n"
     ]
    },
    {
     "name": "stderr",
     "output_type": "stream",
     "text": [
      "\u001b[1m\u001b[33mWARNING: \u001b[39m\u001b[22m\u001b[33mspecial characters \"#{}()[]<>|&*?~;\" should now be quoted in commands\u001b[39m\n",
      "Stacktrace:\n",
      " [1] \u001b[1mdepwarn\u001b[22m\u001b[22m\u001b[1m(\u001b[22m\u001b[22m::String, ::Symbol\u001b[1m)\u001b[22m\u001b[22m at \u001b[1m./deprecated.jl:70\u001b[22m\u001b[22m\n",
      " [2] \u001b[1mwarn_shell_special\u001b[22m\u001b[22m\u001b[1m(\u001b[22m\u001b[22m::String\u001b[1m)\u001b[22m\u001b[22m at \u001b[1m./shell.jl:8\u001b[22m\u001b[22m\n",
      " [3] \u001b[1m#shell_parse#236\u001b[22m\u001b[22m\u001b[1m(\u001b[22m\u001b[22m::String, ::Function, ::String, ::Bool\u001b[1m)\u001b[22m\u001b[22m at \u001b[1m./shell.jl:103\u001b[22m\u001b[22m\n",
      " [4] \u001b[1m(::Base.#kw##shell_parse)\u001b[22m\u001b[22m\u001b[1m(\u001b[22m\u001b[22m::Array{Any,1}, ::Base.#shell_parse, ::String, ::Bool\u001b[1m)\u001b[22m\u001b[22m at \u001b[1m./<missing>:0\u001b[22m\u001b[22m (repeats 2 times)\n",
      " [5] \u001b[1m@cmd\u001b[22m\u001b[22m\u001b[1m(\u001b[22m\u001b[22m::ANY\u001b[1m)\u001b[22m\u001b[22m at \u001b[1m./process.jl:796\u001b[22m\u001b[22m\n",
      " [6] \u001b[1minclude_string\u001b[22m\u001b[22m\u001b[1m(\u001b[22m\u001b[22m::String, ::String\u001b[1m)\u001b[22m\u001b[22m at \u001b[1m./loading.jl:522\u001b[22m\u001b[22m\n",
      " [7] \u001b[1minclude_string\u001b[22m\u001b[22m\u001b[1m(\u001b[22m\u001b[22m::Module, ::String, ::String\u001b[1m)\u001b[22m\u001b[22m at \u001b[1m/Users/hugolhuillier/.julia/v0.6/Compat/src/Compat.jl:174\u001b[22m\u001b[22m\n",
      " [8] \u001b[1mexecute_request\u001b[22m\u001b[22m\u001b[1m(\u001b[22m\u001b[22m::ZMQ.Socket, ::IJulia.Msg\u001b[1m)\u001b[22m\u001b[22m at \u001b[1m/Users/hugolhuillier/.julia/v0.6/IJulia/src/execute_request.jl:154\u001b[22m\u001b[22m\n",
      " [9] \u001b[1m(::Compat.#inner#16{Array{Any,1},IJulia.#execute_request,Tuple{ZMQ.Socket,IJulia.Msg}})\u001b[22m\u001b[22m\u001b[1m(\u001b[22m\u001b[22m\u001b[1m)\u001b[22m\u001b[22m at \u001b[1m/Users/hugolhuillier/.julia/v0.6/Compat/src/Compat.jl:496\u001b[22m\u001b[22m\n",
      " [10] \u001b[1meventloop\u001b[22m\u001b[22m\u001b[1m(\u001b[22m\u001b[22m::ZMQ.Socket\u001b[1m)\u001b[22m\u001b[22m at \u001b[1m/Users/hugolhuillier/.julia/v0.6/IJulia/src/eventloop.jl:8\u001b[22m\u001b[22m\n",
      " [11] \u001b[1m(::IJulia.##14#17)\u001b[22m\u001b[22m\u001b[1m(\u001b[22m\u001b[22m\u001b[1m)\u001b[22m\u001b[22m at \u001b[1m./task.jl:335\u001b[22m\u001b[22m\n",
      "while loading In[17], in expression starting on line 1\n"
     ]
    }
   ],
   "source": [
    "; git show HEAD~1 mars.txt"
   ]
  },
  {
   "cell_type": "markdown",
   "metadata": {
    "slideshow": {
     "slide_type": "subslide"
    }
   },
   "source": [
    "# Exploring history \n",
    "\n",
    "* Instead of `HEAD`, can also refer to commits via their actual identifiers\n",
    "* Only the first few characters are necessary"
   ]
  },
  {
   "cell_type": "code",
   "execution_count": 19,
   "metadata": {},
   "outputs": [
    {
     "name": "stdout",
     "output_type": "stream",
     "text": [
      "commit 089ad21f070b5420227111a0845cf91159f7887f\n",
      "Author: Hugo Lhuillier <hugo.lhu@gmail.com>\n",
      "Date:   Tue Jan 16 10:01:11 2018 +0100\n",
      "\n",
      "    discuss concerns about mars' climate for mummy\n",
      "\n",
      "commit 8ed65cf6864dd9eba43f9944e9844246ad87816c\n",
      "Author: Hugo Lhuillier <hugo.lhu@gmail.com>\n",
      "Date:   Tue Jan 16 09:59:21 2018 +0100\n",
      "\n",
      "    add concerns about effects of Mars' moons on Wolfram\n"
     ]
    }
   ],
   "source": [
    "; git log -2"
   ]
  },
  {
   "cell_type": "code",
   "execution_count": 24,
   "metadata": {},
   "outputs": [
    {
     "name": "stdout",
     "output_type": "stream",
     "text": [
      "commit 8ed65cf6864dd9eba43f9944e9844246ad87816c\n",
      "Author: Hugo Lhuillier <hugo.lhu@gmail.com>\n",
      "Date:   Tue Jan 16 09:59:21 2018 +0100\n",
      "\n",
      "    add concerns about effects of Mars' moons on Wolfram\n",
      "\n",
      "diff --git a/mars.txt b/mars.txt\n",
      "index df0654a..315bf3a 100644\n",
      "--- a/mars.txt\n",
      "+++ b/mars.txt\n",
      "@@ -1 +1,2 @@\n",
      " Cold and dry, but everything is my favorite color\n",
      "+The two moons may be a problem for Wolfman\n"
     ]
    }
   ],
   "source": [
    "; git show 8ed65c mars.txt"
   ]
  },
  {
   "cell_type": "markdown",
   "metadata": {
    "slideshow": {
     "slide_type": "slide"
    }
   },
   "source": [
    "# Recovering files \n",
    "\n",
    "* Suppose that we overwrote `mars.txt` and would like to come back to the previous version"
   ]
  },
  {
   "cell_type": "code",
   "execution_count": 25,
   "metadata": {},
   "outputs": [
    {
     "name": "stdout",
     "output_type": "stream",
     "text": [
      "We will need to manufacture our own oxygen\n"
     ]
    }
   ],
   "source": [
    "; cat mars.txt"
   ]
  },
  {
   "cell_type": "code",
   "execution_count": 26,
   "metadata": {},
   "outputs": [
    {
     "name": "stdout",
     "output_type": "stream",
     "text": [
      "On branch master\n",
      "Changes not staged for commit:\n",
      "  (use \"git add <file>...\" to update what will be committed)\n",
      "  (use \"git checkout -- <file>...\" to discard changes in working directory)\n",
      "\n",
      "\tmodified:   mars.txt\n",
      "\n",
      "no changes added to commit (use \"git add\" and/or \"git commit -a\")\n"
     ]
    }
   ],
   "source": [
    "; git status"
   ]
  },
  {
   "cell_type": "code",
   "execution_count": 27,
   "metadata": {
    "collapsed": true,
    "slideshow": {
     "slide_type": "fragment"
    }
   },
   "outputs": [],
   "source": [
    "; git checkout HEAD mars.txt"
   ]
  },
  {
   "cell_type": "code",
   "execution_count": 28,
   "metadata": {},
   "outputs": [
    {
     "name": "stdout",
     "output_type": "stream",
     "text": [
      "Cold and dry, but everything is my favorite color\n",
      "The two moons may be a problem for Wolfman\n",
      "But the Mummy will appreciate the lack of humidity\n"
     ]
    }
   ],
   "source": [
    "; cat mars.txt"
   ]
  },
  {
   "cell_type": "markdown",
   "metadata": {
    "slideshow": {
     "slide_type": "notes"
    }
   },
   "source": [
    "git checkout checks out (i.e., restores) an old version of a file. In this case, we’re telling Git that we want to recover the version of the file recorded in HEAD, which is the last saved commit. If we want to go back even further, we can use a commit identifier instead."
   ]
  },
  {
   "cell_type": "markdown",
   "metadata": {
    "slideshow": {
     "slide_type": "subslide"
    }
   },
   "source": [
    "# Recovering files\n",
    "\n",
    "* If do not specify `mars.txt`, all the files in the directory will be reverted to their previous state\n",
    "* Here, used \n",
    "```bash\n",
    "git checkout HEAD mars.txt\n",
    "``` \n",
    "because the (wrong) changes we made weren't commited \n",
    "* If had been commited, would have used \n",
    "```bash\n",
    "git checkout HEAD~1 mars.txt\n",
    "``` "
   ]
  },
  {
   "cell_type": "markdown",
   "metadata": {
    "slideshow": {
     "slide_type": "subslide"
    }
   },
   "source": [
    "# Recovering files \n",
    "\n",
    "* Especially when using version control, try to organize your work in a clever way\n",
    "* In particular, try to keep the documents' sizes relatively small\n",
    "    - Easier to recover past work when dealing with several small files rather than one big files  "
   ]
  },
  {
   "cell_type": "markdown",
   "metadata": {
    "slideshow": {
     "slide_type": "slide"
    }
   },
   "source": [
    "# Ignoring things\n",
    "\n",
    "* It is likely that there are files in your directory that you want Git to ignore \n",
    "* For that, create a file called `.gitignore` and that lists all these files to be ignored"
   ]
  },
  {
   "cell_type": "markdown",
   "metadata": {
    "slideshow": {
     "slide_type": "fragment"
    }
   },
   "source": [
    "- **Ex:** \n",
    "    1. create blank files `a.dat` and `b.dat`\n",
    "    1. create a new directory called results, and in it, blank files, `a.out` and `b.out`\n",
    "    1. tell Git to ignore these four files"
   ]
  },
  {
   "cell_type": "markdown",
   "metadata": {
    "slideshow": {
     "slide_type": "fragment"
    }
   },
   "source": [
    "```bash\n",
    "mkdir results\n",
    "touch a.dat b.dat results/a.out results/b.out\n",
    "nano .gitignore\n",
    "```"
   ]
  },
  {
   "cell_type": "code",
   "execution_count": 63,
   "metadata": {},
   "outputs": [
    {
     "name": "stdout",
     "output_type": "stream",
     "text": [
      "*.dat\n",
      "results/\n"
     ]
    }
   ],
   "source": [
    "; cat .gitignore"
   ]
  },
  {
   "cell_type": "markdown",
   "metadata": {
    "slideshow": {
     "slide_type": "fragment"
    }
   },
   "source": [
    "* Do not forget to commit this file!\n",
    "```bash\n",
    "git add .gitignore\n",
    "git commit -m \"add .gitignore\"\n",
    "```"
   ]
  },
  {
   "cell_type": "markdown",
   "metadata": {
    "slideshow": {
     "slide_type": "subslide"
    }
   },
   "source": [
    "# Ignoring things\n",
    "\n",
    "* If try to `add` some files listed in the `.gitignore`, `Git` will not let that happen\n",
    "* If want to override `.gitignore`, use the flag `-f`. Ex:\n",
    "```bash\n",
    "git add -f a.dat\n",
    "```"
   ]
  },
  {
   "cell_type": "markdown",
   "metadata": {
    "slideshow": {
     "slide_type": "slide"
    }
   },
   "source": [
    "# Git & Github\n",
    "\n",
    "* Instead of storing all the info on our laptop, can store it on `Github`\n",
    "    1. create a new repository\n",
    "    1. need to connect this repo with the one we have on our local machine = making the GitHub repository a remote for the local repository\n",
    "    ```bash \n",
    "    git remote add origin https://github.com/HugoLhuillier/planets.git\n",
    "    ```\n",
    "* `origin` is just a name we give to the remote repository\n",
    "* remote (n.): a version control repository connected to another, in such way that both can be kept in sync exchanging commits"
   ]
  },
  {
   "cell_type": "code",
   "execution_count": 66,
   "metadata": {
    "slideshow": {
     "slide_type": "fragment"
    }
   },
   "outputs": [
    {
     "name": "stdout",
     "output_type": "stream",
     "text": [
      "origin\thttps://github.com/HugoLhuillier/planets.git (fetch)\n",
      "origin\thttps://github.com/HugoLhuillier/planets.git (push)\n"
     ]
    }
   ],
   "source": [
    "; git remote -v"
   ]
  },
  {
   "cell_type": "code",
   "execution_count": 67,
   "metadata": {},
   "outputs": [
    {
     "name": "stdout",
     "output_type": "stream",
     "text": [
      "commit ed3b2a379e6076251cb133dd016caab43073d407\n",
      "Author: Hugo Lhuillier <hugo.lhu@gmail.com>\n",
      "Date:   Tue Jan 16 11:27:42 2018 +0100\n",
      "\n",
      "    add .gitignore\n",
      "\n",
      "commit 089ad21f070b5420227111a0845cf91159f7887f\n",
      "Author: Hugo Lhuillier <hugo.lhu@gmail.com>\n",
      "Date:   Tue Jan 16 10:01:11 2018 +0100\n",
      "\n",
      "    discuss concerns about mars' climate for mummy\n",
      "\n",
      "commit 8ed65cf6864dd9eba43f9944e9844246ad87816c\n",
      "Author: Hugo Lhuillier <hugo.lhu@gmail.com>\n",
      "Date:   Tue Jan 16 09:59:21 2018 +0100\n",
      "\n",
      "    add concerns about effects of Mars' moons on Wolfram\n",
      "\n",
      "commit 86360f57243f9a961e6fa46592b47dd2c188f424\n",
      "Author: Hugo Lhuillier <hugo.lhu@gmail.com>\n",
      "Date:   Tue Jan 16 09:58:45 2018 +0100\n",
      "\n",
      "    start notes on Mars as a base\n"
     ]
    }
   ],
   "source": [
    "; git log"
   ]
  },
  {
   "cell_type": "code",
   "execution_count": 68,
   "metadata": {
    "scrolled": true
   },
   "outputs": [
    {
     "name": "stderr",
     "output_type": "stream",
     "text": [
      "To https://github.com/HugoLhuillier/planets.git\n",
      " * [new branch]      master -> master\n"
     ]
    }
   ],
   "source": [
    "; git push origin master"
   ]
  },
  {
   "cell_type": "markdown",
   "metadata": {
    "slideshow": {
     "slide_type": "notes"
    }
   },
   "source": [
    "Therefore here\n",
    "1. `push` to the remote called `origin`\n",
    "1. `push` to the branch call `master`"
   ]
  },
  {
   "cell_type": "markdown",
   "metadata": {
    "slideshow": {
     "slide_type": "fragment"
    }
   },
   "source": [
    "<img src=\"https://swcarpentry.github.io/git-novice/fig/github-repo-after-first-push.svg\">"
   ]
  },
  {
   "cell_type": "markdown",
   "metadata": {
    "slideshow": {
     "slide_type": "subslide"
    }
   },
   "source": [
    "# Git & Github\n",
    "\n",
    "* If some changes are made on the remote repository (e.g. by you directly on Github, or by one of your collaborator), can pull these changes to your local repository via `git pull` "
   ]
  },
  {
   "cell_type": "code",
   "execution_count": 70,
   "metadata": {
    "slideshow": {
     "slide_type": "fragment"
    }
   },
   "outputs": [
    {
     "name": "stdout",
     "output_type": "stream",
     "text": [
      "Already up-to-date.\n"
     ]
    },
    {
     "name": "stderr",
     "output_type": "stream",
     "text": [
      "From https://github.com/HugoLhuillier/planets\n",
      " * branch            master     -> FETCH_HEAD\n"
     ]
    }
   ],
   "source": [
    "; git pull origin master"
   ]
  },
  {
   "cell_type": "markdown",
   "metadata": {
    "slideshow": {
     "slide_type": "fragment"
    }
   },
   "source": [
    "* Create a `README.md` file on Github"
   ]
  },
  {
   "cell_type": "code",
   "execution_count": 73,
   "metadata": {
    "slideshow": {
     "slide_type": "fragment"
    }
   },
   "outputs": [
    {
     "name": "stdout",
     "output_type": "stream",
     "text": [
      "Updating ed3b2a3..4db0bc9\n",
      "Fast-forward\n",
      " README.md | 2 ++\n",
      " 1 file changed, 2 insertions(+)\n",
      " create mode 100644 README.md\n"
     ]
    },
    {
     "name": "stderr",
     "output_type": "stream",
     "text": [
      "From https://github.com/HugoLhuillier/planets\n",
      " * branch            master     -> FETCH_HEAD\n",
      "   ed3b2a3..4db0bc9  master     -> origin/master\n"
     ]
    }
   ],
   "source": [
    "; git pull origin master"
   ]
  },
  {
   "cell_type": "code",
   "execution_count": 75,
   "metadata": {},
   "outputs": [
    {
     "name": "stdout",
     "output_type": "stream",
     "text": [
      "README.md\n",
      "a.dat\n",
      "b.dat\n",
      "mars.txt\n",
      "results/\n"
     ]
    }
   ],
   "source": [
    "; ls -F"
   ]
  },
  {
   "cell_type": "markdown",
   "metadata": {
    "slideshow": {
     "slide_type": "slide"
    }
   },
   "source": [
    "# Conflicts\n",
    "\n",
    "* Particularly salient when working with other people \n",
    "* **Exercice:**\n",
    "    1. Go on your Githuh repo, and modify the content of `README.md` to \n",
    "        > this is a test repo\n",
    "    1. Without pulling these changes, modify the `README.md` on your local repository to \n",
    "        > a test repo\n",
    "    1. Commit these changes (locally)\n",
    "    1. Try to push these changes"
   ]
  },
  {
   "cell_type": "code",
   "execution_count": 4,
   "metadata": {
    "slideshow": {
     "slide_type": "fragment"
    }
   },
   "outputs": [
    {
     "name": "stdout",
     "output_type": "stream",
     "text": [
      "# planets\n",
      "a test repo\n"
     ]
    }
   ],
   "source": [
    "; cat README.md"
   ]
  },
  {
   "cell_type": "code",
   "execution_count": 5,
   "metadata": {
    "collapsed": true
   },
   "outputs": [],
   "source": [
    "; git add README.md"
   ]
  },
  {
   "cell_type": "code",
   "execution_count": 6,
   "metadata": {},
   "outputs": [
    {
     "name": "stdout",
     "output_type": "stream",
     "text": [
      "[master af26722] update README.md\n",
      " 1 file changed, 1 insertion(+), 1 deletion(-)\n"
     ]
    }
   ],
   "source": [
    "; git commit -m \"update README.md\""
   ]
  },
  {
   "cell_type": "code",
   "execution_count": 8,
   "metadata": {},
   "outputs": [
    {
     "name": "stderr",
     "output_type": "stream",
     "text": [
      "To https://github.com/HugoLhuillier/planets.git\n",
      " ! [rejected]        master -> master (fetch first)\n",
      "error: failed to push some refs to 'https://github.com/HugoLhuillier/planets.git'\n",
      "hint: Updates were rejected because the remote contains work that you do\n",
      "hint: not have locally. This is usually caused by another repository pushing\n",
      "hint: to the same ref. You may want to first integrate the remote changes\n",
      "hint: (e.g., 'git pull ...') before pushing again.\n",
      "hint: See the 'Note about fast-forwards' in 'git push --help' for details.\n"
     ]
    }
   ],
   "source": [
    "; git push origin master"
   ]
  },
  {
   "cell_type": "markdown",
   "metadata": {
    "slideshow": {
     "slide_type": "subslide"
    }
   },
   "source": [
    "# Conflicts\n",
    "\n",
    "* So far, not a conflict per se, simply that we haven't updated our local repository"
   ]
  },
  {
   "cell_type": "code",
   "execution_count": 9,
   "metadata": {},
   "outputs": [
    {
     "name": "stderr",
     "output_type": "stream",
     "text": [
      "From https://github.com/HugoLhuillier/planets\n",
      " * branch            master     -> FETCH_HEAD\n",
      "   4db0bc9..a03e822  master     -> origin/master\n"
     ]
    },
    {
     "name": "stdout",
     "output_type": "stream",
     "text": [
      "Auto-merging README.md\n",
      "CONFLICT (content): Merge conflict in README.md\n",
      "Automatic merge failed; fix conflicts and then commit the result.\n"
     ]
    }
   ],
   "source": [
    "; git pull origin master"
   ]
  },
  {
   "cell_type": "markdown",
   "metadata": {
    "slideshow": {
     "slide_type": "fragment"
    }
   },
   "source": [
    "* Now we have a conflict (the changes made in one copy of the repo overlap with those made in the other copy) \n",
    "<img src=\"https://swcarpentry.github.io/git-novice/fig/conflict.svg\">\n",
    "* We have to resolve it manually (with the help of Git)"
   ]
  },
  {
   "cell_type": "code",
   "execution_count": 10,
   "metadata": {
    "slideshow": {
     "slide_type": "-"
    }
   },
   "outputs": [
    {
     "name": "stdout",
     "output_type": "stream",
     "text": [
      "# planets\n",
      "<<<<<<< HEAD\n",
      "a test repo\n",
      "=======\n",
      "this is a test repo \n",
      ">>>>>>> a03e8222bef054d4a69d8dd171ece8d7a7bdca89\n"
     ]
    }
   ],
   "source": [
    "; cat README.md"
   ]
  },
  {
   "cell_type": "markdown",
   "metadata": {
    "slideshow": {
     "slide_type": "fragment"
    }
   },
   "source": [
    "* Our change on the local repo is preceded by `<<<<<<< HEAD`\n",
    "* `=======` separates the conflicting changes\n",
    "* `>>>>>>>` marks the end of the content download from Github (with the commit associated)\n",
    "* Up to you to remove these markers and resolve the conflict"
   ]
  },
  {
   "cell_type": "markdown",
   "metadata": {
    "slideshow": {
     "slide_type": "subslide"
    }
   },
   "source": [
    "# Conflicts\n",
    "\n",
    "* To resolve any conflict\n",
    "    1. modify the file(s) affected\n",
    "    1. commit the changes\n",
    "    1. push the new commit (= the merge)"
   ]
  },
  {
   "cell_type": "code",
   "execution_count": 17,
   "metadata": {
    "slideshow": {
     "slide_type": "fragment"
    }
   },
   "outputs": [
    {
     "name": "stdout",
     "output_type": "stream",
     "text": [
      "# planets\n",
      "this is a test repo\n"
     ]
    }
   ],
   "source": [
    "; cat README.md"
   ]
  },
  {
   "cell_type": "code",
   "execution_count": 12,
   "metadata": {
    "collapsed": true
   },
   "outputs": [],
   "source": [
    "; git add README.md"
   ]
  },
  {
   "cell_type": "code",
   "execution_count": 14,
   "metadata": {},
   "outputs": [
    {
     "name": "stdout",
     "output_type": "stream",
     "text": [
      "On branch master\n",
      "All conflicts fixed but you are still merging.\n",
      "  (use \"git commit\" to conclude merge)\n",
      "\n",
      "Changes to be committed:\n",
      "\n",
      "\tmodified:   README.md\n",
      "\n"
     ]
    }
   ],
   "source": [
    "; git status"
   ]
  },
  {
   "cell_type": "code",
   "execution_count": 15,
   "metadata": {},
   "outputs": [
    {
     "name": "stdout",
     "output_type": "stream",
     "text": [
      "[master 3c40fe9] merge README.md\n"
     ]
    }
   ],
   "source": [
    "; git commit -m \"merge README.md\""
   ]
  },
  {
   "cell_type": "code",
   "execution_count": 16,
   "metadata": {},
   "outputs": [
    {
     "name": "stderr",
     "output_type": "stream",
     "text": [
      "To https://github.com/HugoLhuillier/planets.git\n",
      "   a03e822..3c40fe9  master -> master\n"
     ]
    }
   ],
   "source": [
    "; git push origin master"
   ]
  },
  {
   "cell_type": "markdown",
   "metadata": {
    "slideshow": {
     "slide_type": "subslide"
    }
   },
   "source": [
    "# Conflicts\n",
    "\n",
    "* Resolving conflicts is a pain _#UN_\n",
    "* To minimize them\n",
    "    * pull from upstream more frequently\n",
    "    * try as much as possible to break large files into smaller ones\n",
    "    * make smaller commits\n",
    "* And also, when working in groups\n",
    "    * clarify which collaborator is responsible for what part of the code\n",
    "    * establish a project convention to avoid stylistic conflict (e.g. **tabs vs. spaces**)"
   ]
  },
  {
   "cell_type": "markdown",
   "metadata": {
    "slideshow": {
     "slide_type": "slide"
    }
   },
   "source": [
    "# Branches\n",
    "\n",
    "* Branches allow you to work on some part of the code without affecting the main line of development (the main branch)\n",
    "* Branches are very handy for instance when want to introduce new features, but not certain if these are going to work\n",
    "* To use a branch\n",
    "    1. Create a branch\n",
    "    1. Work on it as much as you want (commits, push, pull etc. work similarly)\n",
    "    1. When you are done, you can merge this branch to the main branch (= master) - with potential conflicts\n",
    "\n",
    "\n",
    "<img src=\"ex-branch.png\">"
   ]
  },
  {
   "cell_type": "markdown",
   "metadata": {
    "slideshow": {
     "slide_type": "subslide"
    }
   },
   "source": [
    "# Branches\n",
    "\n",
    "* Some basic command:\n",
    "```bash \n",
    "git branch            # list all existing branches\n",
    "git branch <name>     # create a branch named <name>\n",
    "git branch -m <name>  # rename the branch we are on to <name>\n",
    "git branch -d <name>  # delete the branch <name> IF merged\n",
    "git branch -D <name>  # delete the branch <name> even if not merged\n",
    "```\n",
    "* `git checkout <name>` tells `Git` to go to the branch `name`"
   ]
  },
  {
   "cell_type": "markdown",
   "metadata": {
    "slideshow": {
     "slide_type": "subslide"
    }
   },
   "source": [
    "# Branches\n",
    "\n",
    "* **Ex**: create a new branch to work on potential changes to `mars.txt`"
   ]
  },
  {
   "cell_type": "code",
   "execution_count": 26,
   "metadata": {},
   "outputs": [
    {
     "name": "stdout",
     "output_type": "stream",
     "text": [
      "* master\n"
     ]
    }
   ],
   "source": [
    "; git branch"
   ]
  },
  {
   "cell_type": "code",
   "execution_count": 27,
   "metadata": {
    "collapsed": true
   },
   "outputs": [],
   "source": [
    "; git branch mars-second-verse"
   ]
  },
  {
   "cell_type": "code",
   "execution_count": 28,
   "metadata": {},
   "outputs": [
    {
     "name": "stdout",
     "output_type": "stream",
     "text": [
      "  mars-second-verse\n",
      "* master\n"
     ]
    }
   ],
   "source": [
    "; git branch"
   ]
  },
  {
   "cell_type": "code",
   "execution_count": 33,
   "metadata": {},
   "outputs": [
    {
     "name": "stdout",
     "output_type": "stream",
     "text": [
      "M\tmars.txt\n"
     ]
    },
    {
     "name": "stderr",
     "output_type": "stream",
     "text": [
      "Switched to branch 'mars-second-verse'\n"
     ]
    }
   ],
   "source": [
    "; git checkout mars-second-verse"
   ]
  },
  {
   "cell_type": "code",
   "execution_count": 34,
   "metadata": {
    "scrolled": false
   },
   "outputs": [
    {
     "name": "stdout",
     "output_type": "stream",
     "text": [
      "Cold and dry, but everything is my favorite color\n",
      "The two moons may be a problem for Wolfman\n",
      "But the Mummy will appreciate the lack of humidity\n",
      "\n",
      "I am bad at poetry\n",
      "So bad I cannot write poetry\n",
      "Oh - why I am so bad?\n"
     ]
    }
   ],
   "source": [
    "; cat mars.txt"
   ]
  },
  {
   "cell_type": "code",
   "execution_count": null,
   "metadata": {
    "collapsed": true
   },
   "outputs": [],
   "source": [
    "; git add mars.txt"
   ]
  },
  {
   "cell_type": "code",
   "execution_count": null,
   "metadata": {
    "collapsed": true
   },
   "outputs": [],
   "source": [
    "; git commit -m \"add second verse\""
   ]
  },
  {
   "cell_type": "code",
   "execution_count": null,
   "metadata": {
    "collapsed": true
   },
   "outputs": [],
   "source": [
    "; git push origin mars-second-verse"
   ]
  },
  {
   "cell_type": "code",
   "execution_count": 31,
   "metadata": {},
   "outputs": [
    {
     "name": "stdout",
     "output_type": "stream",
     "text": [
      "M\tmars.txt\n"
     ]
    },
    {
     "name": "stderr",
     "output_type": "stream",
     "text": [
      "Switched to branch 'master'\n"
     ]
    }
   ],
   "source": [
    "; git checkout master"
   ]
  },
  {
   "cell_type": "code",
   "execution_count": 35,
   "metadata": {},
   "outputs": [
    {
     "name": "stdout",
     "output_type": "stream",
     "text": [
      "Cold and dry, but everything is my favorite color\n",
      "The two moons may be a problem for Wolfman\n",
      "But the Mummy will appreciate the lack of humidity\n"
     ]
    }
   ],
   "source": [
    "; cat mars.txt"
   ]
  },
  {
   "cell_type": "markdown",
   "metadata": {
    "slideshow": {
     "slide_type": "subslide"
    }
   },
   "source": [
    "# Merging branches\n",
    "\n",
    "* Two options\n",
    "    1. _own work_: do a local merge via `git merge`\n",
    "    ```bash\n",
    "    git merge <branch>\n",
    "    ```\n",
    "    will add the changes made in <branch> to the branch we are currently on\n",
    "    1. _collab_: do a pull request on `Github`\n"
   ]
  },
  {
   "cell_type": "markdown",
   "metadata": {
    "slideshow": {
     "slide_type": "fragment"
    }
   },
   "source": [
    "* With our previous example\n",
    "```bash \n",
    "git checkout master \n",
    "git merge mars-second-verse\n",
    "```"
   ]
  },
  {
   "cell_type": "markdown",
   "metadata": {
    "slideshow": {
     "slide_type": "slide"
    }
   },
   "source": [
    "# Fork\n",
    "\n",
    "* Forking: cloning a Github project and registering it under your Github username\n",
    "* Can make changes without affecting the original project\n",
    "* Can update your version with changes mades to the original project (= **upstream**)\n",
    "* Can make changes upstream (= **a pull request**)\n"
   ]
  },
  {
   "cell_type": "markdown",
   "metadata": {
    "slideshow": {
     "slide_type": "subslide"
    }
   },
   "source": [
    "# Forking a repository\n",
    "\n",
    "* Go to the repository of your choice, and fork it\n",
    "* Create a local clone of your work\n",
    "* Setup an upstream repository"
   ]
  },
  {
   "cell_type": "markdown",
   "metadata": {
    "slideshow": {
     "slide_type": "subslide"
    }
   },
   "source": [
    "# Forking IntroProg2018\n",
    "\n",
    "* Fork IntroProg2018, navigate to your forked repository on your profile, and copy the address under \"Clone or download\"\n",
    "* In your directory of your choice, make a local copy of your repo (a clone). `git clone` will automatically setup your forked repository as the _origin_ remote \n",
    "```bash \n",
    "git clone https://github.com/YOUR-USERNAME/IntroProg2018\n",
    "```\n",
    "* Configure Git to pull changes from the upstream repository (same command as before, but call the new remote _upstream_ instead of _origin_)\n",
    "```bash \n",
    "git remote add upstream https://github.com/HugoLhuillier/IntroProg2018.git\n",
    "```\n",
    "* Check it worked by running\n",
    "```bash\n",
    "git remote -v\n",
    "```\n",
    "* To sync your local remote, \n",
    "```bash \n",
    "git pull upstream master\n",
    "```"
   ]
  },
  {
   "cell_type": "markdown",
   "metadata": {
    "slideshow": {
     "slide_type": "notes"
    }
   },
   "source": [
    "* **Careful**: potential conflicts ahead... Alternatively, \n",
    "```bash\n",
    "git fetch upstream \n",
    "git checkout master \n",
    "git merge upstream/master\n",
    "```"
   ]
  },
  {
   "cell_type": "markdown",
   "metadata": {
    "slideshow": {
     "slide_type": "slide"
    }
   },
   "source": [
    "# Pull request\n",
    "\n",
    "* Similar to pushing to your remote repository, except that your pushing to somebody else's\n",
    "* Allows to discuss and review the changes made, and add follow-up commit before the changes are merged"
   ]
  },
  {
   "cell_type": "markdown",
   "metadata": {
    "slideshow": {
     "slide_type": "fragment"
    }
   },
   "source": [
    "* To do a pull request:\n",
    "    * Push some changes to your remote personal repository\n",
    "    * Go on its Github page, and click on pull request\n",
    "    * Add comments etc. "
   ]
  },
  {
   "cell_type": "markdown",
   "metadata": {
    "slideshow": {
     "slide_type": "subslide"
    }
   },
   "source": [
    "# Pull request & homework\n",
    "\n",
    "* Will use pull request for homework\n",
    "* Idea:\n",
    "    1. do the homework on your computer\n",
    "    1. push it to your remote repository\n",
    "    1. pull request to my repository so that I can see what you've done"
   ]
  }
 ],
 "metadata": {
  "celltoolbar": "Slideshow",
  "kernelspec": {
   "display_name": "Julia 0.6.2",
   "language": "julia",
   "name": "julia-0.6"
  },
  "language_info": {
   "file_extension": ".jl",
   "mimetype": "application/julia",
   "name": "julia",
   "version": "0.6.2"
  }
 },
 "nbformat": 4,
 "nbformat_minor": 2
}
